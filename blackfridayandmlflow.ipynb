{
  "nbformat": 4,
  "nbformat_minor": 0,
  "metadata": {
    "colab": {
      "name": "blackfridayandmlflow.ipynb",
      "provenance": [],
      "collapsed_sections": []
    },
    "kernelspec": {
      "name": "python3",
      "display_name": "Python 3"
    },
    "language_info": {
      "name": "python"
    }
  },
  "cells": [
    {
      "cell_type": "code",
      "source": [
        "df = pd.read_csv('/content/train (1).csv')"
      ],
      "metadata": {
        "id": "a4cPVc4dZRDW"
      },
      "execution_count": 4,
      "outputs": []
    },
    {
      "cell_type": "code",
      "source": [
        "import pandas as pd"
      ],
      "metadata": {
        "id": "C0UA14iwleFw"
      },
      "execution_count": 95,
      "outputs": []
    },
    {
      "cell_type": "code",
      "source": [
        "df.head()"
      ],
      "metadata": {
        "id": "8h7clcTvZRGW",
        "colab": {
          "base_uri": "https://localhost:8080/",
          "height": 340
        },
        "outputId": "eb5f1967-7895-413b-aaee-9843453362af"
      },
      "execution_count": 96,
      "outputs": [
        {
          "output_type": "execute_result",
          "data": {
            "text/plain": [
              "  Gender   Age  Occupation City_Category Stay_In_Current_City_Years  \\\n",
              "0      F  0-17          10             A                          2   \n",
              "1      F  0-17          10             A                          2   \n",
              "2      F  0-17          10             A                          2   \n",
              "3      F  0-17          10             A                          2   \n",
              "4      M   55+          16             C                         4+   \n",
              "\n",
              "   Marital_Status  Product_Category_1  Product_Category_2  Product_Category_3  \\\n",
              "0               0                   3                 NaN                 NaN   \n",
              "1               0                   1                 6.0                14.0   \n",
              "2               0                  12                 NaN                 NaN   \n",
              "3               0                  12                14.0                 NaN   \n",
              "4               0                   8                 NaN                 NaN   \n",
              "\n",
              "   Purchase  \n",
              "0      8370  \n",
              "1     15200  \n",
              "2      1422  \n",
              "3      1057  \n",
              "4      7969  "
            ],
            "text/html": [
              "\n",
              "  <div id=\"df-a82483e9-6cb5-4eea-ad22-3574e8ee9205\">\n",
              "    <div class=\"colab-df-container\">\n",
              "      <div>\n",
              "<style scoped>\n",
              "    .dataframe tbody tr th:only-of-type {\n",
              "        vertical-align: middle;\n",
              "    }\n",
              "\n",
              "    .dataframe tbody tr th {\n",
              "        vertical-align: top;\n",
              "    }\n",
              "\n",
              "    .dataframe thead th {\n",
              "        text-align: right;\n",
              "    }\n",
              "</style>\n",
              "<table border=\"1\" class=\"dataframe\">\n",
              "  <thead>\n",
              "    <tr style=\"text-align: right;\">\n",
              "      <th></th>\n",
              "      <th>Gender</th>\n",
              "      <th>Age</th>\n",
              "      <th>Occupation</th>\n",
              "      <th>City_Category</th>\n",
              "      <th>Stay_In_Current_City_Years</th>\n",
              "      <th>Marital_Status</th>\n",
              "      <th>Product_Category_1</th>\n",
              "      <th>Product_Category_2</th>\n",
              "      <th>Product_Category_3</th>\n",
              "      <th>Purchase</th>\n",
              "    </tr>\n",
              "  </thead>\n",
              "  <tbody>\n",
              "    <tr>\n",
              "      <th>0</th>\n",
              "      <td>F</td>\n",
              "      <td>0-17</td>\n",
              "      <td>10</td>\n",
              "      <td>A</td>\n",
              "      <td>2</td>\n",
              "      <td>0</td>\n",
              "      <td>3</td>\n",
              "      <td>NaN</td>\n",
              "      <td>NaN</td>\n",
              "      <td>8370</td>\n",
              "    </tr>\n",
              "    <tr>\n",
              "      <th>1</th>\n",
              "      <td>F</td>\n",
              "      <td>0-17</td>\n",
              "      <td>10</td>\n",
              "      <td>A</td>\n",
              "      <td>2</td>\n",
              "      <td>0</td>\n",
              "      <td>1</td>\n",
              "      <td>6.0</td>\n",
              "      <td>14.0</td>\n",
              "      <td>15200</td>\n",
              "    </tr>\n",
              "    <tr>\n",
              "      <th>2</th>\n",
              "      <td>F</td>\n",
              "      <td>0-17</td>\n",
              "      <td>10</td>\n",
              "      <td>A</td>\n",
              "      <td>2</td>\n",
              "      <td>0</td>\n",
              "      <td>12</td>\n",
              "      <td>NaN</td>\n",
              "      <td>NaN</td>\n",
              "      <td>1422</td>\n",
              "    </tr>\n",
              "    <tr>\n",
              "      <th>3</th>\n",
              "      <td>F</td>\n",
              "      <td>0-17</td>\n",
              "      <td>10</td>\n",
              "      <td>A</td>\n",
              "      <td>2</td>\n",
              "      <td>0</td>\n",
              "      <td>12</td>\n",
              "      <td>14.0</td>\n",
              "      <td>NaN</td>\n",
              "      <td>1057</td>\n",
              "    </tr>\n",
              "    <tr>\n",
              "      <th>4</th>\n",
              "      <td>M</td>\n",
              "      <td>55+</td>\n",
              "      <td>16</td>\n",
              "      <td>C</td>\n",
              "      <td>4+</td>\n",
              "      <td>0</td>\n",
              "      <td>8</td>\n",
              "      <td>NaN</td>\n",
              "      <td>NaN</td>\n",
              "      <td>7969</td>\n",
              "    </tr>\n",
              "  </tbody>\n",
              "</table>\n",
              "</div>\n",
              "      <button class=\"colab-df-convert\" onclick=\"convertToInteractive('df-a82483e9-6cb5-4eea-ad22-3574e8ee9205')\"\n",
              "              title=\"Convert this dataframe to an interactive table.\"\n",
              "              style=\"display:none;\">\n",
              "        \n",
              "  <svg xmlns=\"http://www.w3.org/2000/svg\" height=\"24px\"viewBox=\"0 0 24 24\"\n",
              "       width=\"24px\">\n",
              "    <path d=\"M0 0h24v24H0V0z\" fill=\"none\"/>\n",
              "    <path d=\"M18.56 5.44l.94 2.06.94-2.06 2.06-.94-2.06-.94-.94-2.06-.94 2.06-2.06.94zm-11 1L8.5 8.5l.94-2.06 2.06-.94-2.06-.94L8.5 2.5l-.94 2.06-2.06.94zm10 10l.94 2.06.94-2.06 2.06-.94-2.06-.94-.94-2.06-.94 2.06-2.06.94z\"/><path d=\"M17.41 7.96l-1.37-1.37c-.4-.4-.92-.59-1.43-.59-.52 0-1.04.2-1.43.59L10.3 9.45l-7.72 7.72c-.78.78-.78 2.05 0 2.83L4 21.41c.39.39.9.59 1.41.59.51 0 1.02-.2 1.41-.59l7.78-7.78 2.81-2.81c.8-.78.8-2.07 0-2.86zM5.41 20L4 18.59l7.72-7.72 1.47 1.35L5.41 20z\"/>\n",
              "  </svg>\n",
              "      </button>\n",
              "      \n",
              "  <style>\n",
              "    .colab-df-container {\n",
              "      display:flex;\n",
              "      flex-wrap:wrap;\n",
              "      gap: 12px;\n",
              "    }\n",
              "\n",
              "    .colab-df-convert {\n",
              "      background-color: #E8F0FE;\n",
              "      border: none;\n",
              "      border-radius: 50%;\n",
              "      cursor: pointer;\n",
              "      display: none;\n",
              "      fill: #1967D2;\n",
              "      height: 32px;\n",
              "      padding: 0 0 0 0;\n",
              "      width: 32px;\n",
              "    }\n",
              "\n",
              "    .colab-df-convert:hover {\n",
              "      background-color: #E2EBFA;\n",
              "      box-shadow: 0px 1px 2px rgba(60, 64, 67, 0.3), 0px 1px 3px 1px rgba(60, 64, 67, 0.15);\n",
              "      fill: #174EA6;\n",
              "    }\n",
              "\n",
              "    [theme=dark] .colab-df-convert {\n",
              "      background-color: #3B4455;\n",
              "      fill: #D2E3FC;\n",
              "    }\n",
              "\n",
              "    [theme=dark] .colab-df-convert:hover {\n",
              "      background-color: #434B5C;\n",
              "      box-shadow: 0px 1px 3px 1px rgba(0, 0, 0, 0.15);\n",
              "      filter: drop-shadow(0px 1px 2px rgba(0, 0, 0, 0.3));\n",
              "      fill: #FFFFFF;\n",
              "    }\n",
              "  </style>\n",
              "\n",
              "      <script>\n",
              "        const buttonEl =\n",
              "          document.querySelector('#df-a82483e9-6cb5-4eea-ad22-3574e8ee9205 button.colab-df-convert');\n",
              "        buttonEl.style.display =\n",
              "          google.colab.kernel.accessAllowed ? 'block' : 'none';\n",
              "\n",
              "        async function convertToInteractive(key) {\n",
              "          const element = document.querySelector('#df-a82483e9-6cb5-4eea-ad22-3574e8ee9205');\n",
              "          const dataTable =\n",
              "            await google.colab.kernel.invokeFunction('convertToInteractive',\n",
              "                                                     [key], {});\n",
              "          if (!dataTable) return;\n",
              "\n",
              "          const docLinkHtml = 'Like what you see? Visit the ' +\n",
              "            '<a target=\"_blank\" href=https://colab.research.google.com/notebooks/data_table.ipynb>data table notebook</a>'\n",
              "            + ' to learn more about interactive tables.';\n",
              "          element.innerHTML = '';\n",
              "          dataTable['output_type'] = 'display_data';\n",
              "          await google.colab.output.renderOutput(dataTable, element);\n",
              "          const docLink = document.createElement('div');\n",
              "          docLink.innerHTML = docLinkHtml;\n",
              "          element.appendChild(docLink);\n",
              "        }\n",
              "      </script>\n",
              "    </div>\n",
              "  </div>\n",
              "  "
            ]
          },
          "metadata": {},
          "execution_count": 96
        }
      ]
    },
    {
      "cell_type": "code",
      "source": [
        "df.info()"
      ],
      "metadata": {
        "id": "KRZRu7z2ZRKG",
        "colab": {
          "base_uri": "https://localhost:8080/"
        },
        "outputId": "b1cd92aa-847d-4183-9db6-5b169fa386f6"
      },
      "execution_count": 40,
      "outputs": [
        {
          "output_type": "stream",
          "name": "stdout",
          "text": [
            "<class 'pandas.core.frame.DataFrame'>\n",
            "RangeIndex: 550068 entries, 0 to 550067\n",
            "Data columns (total 10 columns):\n",
            " #   Column                      Non-Null Count   Dtype  \n",
            "---  ------                      --------------   -----  \n",
            " 0   Gender                      550068 non-null  object \n",
            " 1   Age                         550068 non-null  object \n",
            " 2   Occupation                  550068 non-null  int64  \n",
            " 3   City_Category               550068 non-null  object \n",
            " 4   Stay_In_Current_City_Years  550068 non-null  object \n",
            " 5   Marital_Status              550068 non-null  int64  \n",
            " 6   Product_Category_1          550068 non-null  int64  \n",
            " 7   Product_Category_2          376430 non-null  float64\n",
            " 8   Product_Category_3          166821 non-null  float64\n",
            " 9   Purchase                    550068 non-null  int64  \n",
            "dtypes: float64(2), int64(4), object(4)\n",
            "memory usage: 42.0+ MB\n"
          ]
        }
      ]
    },
    {
      "cell_type": "code",
      "source": [
        ""
      ],
      "metadata": {
        "id": "JJzBe851ZROX"
      },
      "execution_count": 42,
      "outputs": []
    },
    {
      "cell_type": "code",
      "source": [
        "df.drop(['User_ID'] , axis = 1 , inplace = True)"
      ],
      "metadata": {
        "id": "2PorbgfDZRWj"
      },
      "execution_count": 6,
      "outputs": []
    },
    {
      "cell_type": "code",
      "source": [
        "df.drop(['Product_ID'] , axis = 1 , inplace = True)"
      ],
      "metadata": {
        "id": "gcJUxDCkkHId"
      },
      "execution_count": 7,
      "outputs": []
    },
    {
      "cell_type": "code",
      "source": [
        "df.info()"
      ],
      "metadata": {
        "colab": {
          "base_uri": "https://localhost:8080/"
        },
        "id": "Lw14rsbBJD6v",
        "outputId": "cc41032f-3613-4127-bad2-99b66fe57207"
      },
      "execution_count": 45,
      "outputs": [
        {
          "output_type": "stream",
          "name": "stdout",
          "text": [
            "<class 'pandas.core.frame.DataFrame'>\n",
            "RangeIndex: 550068 entries, 0 to 550067\n",
            "Data columns (total 10 columns):\n",
            " #   Column                      Non-Null Count   Dtype  \n",
            "---  ------                      --------------   -----  \n",
            " 0   Gender                      550068 non-null  object \n",
            " 1   Age                         550068 non-null  object \n",
            " 2   Occupation                  550068 non-null  int64  \n",
            " 3   City_Category               550068 non-null  object \n",
            " 4   Stay_In_Current_City_Years  550068 non-null  object \n",
            " 5   Marital_Status              550068 non-null  int64  \n",
            " 6   Product_Category_1          550068 non-null  int64  \n",
            " 7   Product_Category_2          376430 non-null  float64\n",
            " 8   Product_Category_3          166821 non-null  float64\n",
            " 9   Purchase                    550068 non-null  int64  \n",
            "dtypes: float64(2), int64(4), object(4)\n",
            "memory usage: 42.0+ MB\n"
          ]
        }
      ]
    },
    {
      "cell_type": "code",
      "source": [
        "df.Stay_In_Current_City_Years.value_counts()"
      ],
      "metadata": {
        "colab": {
          "base_uri": "https://localhost:8080/"
        },
        "id": "Eg7ZBfW2Kxbm",
        "outputId": "7a3a630b-7576-4bd1-9149-47a57964d123"
      },
      "execution_count": 46,
      "outputs": [
        {
          "output_type": "execute_result",
          "data": {
            "text/plain": [
              "1     193821\n",
              "2     101838\n",
              "3      95285\n",
              "4+     84726\n",
              "0      74398\n",
              "Name: Stay_In_Current_City_Years, dtype: int64"
            ]
          },
          "metadata": {},
          "execution_count": 46
        }
      ]
    },
    {
      "cell_type": "code",
      "source": [
        "import seaborn as sns"
      ],
      "metadata": {
        "id": "pkh54PnGivDI"
      },
      "execution_count": 47,
      "outputs": []
    },
    {
      "cell_type": "code",
      "source": [
        "from sklearn.compose import ColumnTransformer\n",
        "from sklearn.preprocessing import StandardScaler,OneHotEncoder\n",
        "from sklearn.pipeline import Pipeline,make_pipeline\n",
        "from sklearn.feature_selection import SelectKBest,chi2,f_regression\n",
        "from sklearn.impute import SimpleImputer\n",
        "from sklearn.metrics import r2_score,mean_absolute_error as mse\n"
      ],
      "metadata": {
        "id": "jFpZzJXhivFs"
      },
      "execution_count": 54,
      "outputs": []
    },
    {
      "cell_type": "code",
      "source": [
        "from sklearn.model_selection import train_test_split"
      ],
      "metadata": {
        "id": "5JI1hju2NyCv"
      },
      "execution_count": 9,
      "outputs": []
    },
    {
      "cell_type": "code",
      "source": [
        "from sklearn.model_selection import train_test_split\n",
        "X_train ,  X_test,y_train , y_test = train_test_split(df.drop(['Purchase'] , axis = 1) , df['Purchase'] , test_size = 0.2 , random_state = 42) "
      ],
      "metadata": {
        "id": "-xbM4XMeNyFs"
      },
      "execution_count": 10,
      "outputs": []
    },
    {
      "cell_type": "code",
      "source": [
        "y_train.shape"
      ],
      "metadata": {
        "colab": {
          "base_uri": "https://localhost:8080/",
          "height": 165
        },
        "id": "mlM03isTP7Dp",
        "outputId": "c031219f-376d-4465-b25c-211465db3424"
      },
      "execution_count": 1,
      "outputs": [
        {
          "output_type": "error",
          "ename": "NameError",
          "evalue": "ignored",
          "traceback": [
            "\u001b[0;31m---------------------------------------------------------------------------\u001b[0m",
            "\u001b[0;31mNameError\u001b[0m                                 Traceback (most recent call last)",
            "\u001b[0;32m<ipython-input-1-30602697b5a7>\u001b[0m in \u001b[0;36m<module>\u001b[0;34m()\u001b[0m\n\u001b[0;32m----> 1\u001b[0;31m \u001b[0my_train\u001b[0m\u001b[0;34m.\u001b[0m\u001b[0mshape\u001b[0m\u001b[0;34m\u001b[0m\u001b[0;34m\u001b[0m\u001b[0m\n\u001b[0m",
            "\u001b[0;31mNameError\u001b[0m: name 'y_train' is not defined"
          ]
        }
      ]
    },
    {
      "cell_type": "code",
      "source": [
        "#column transformer for imputing the missing values in Product_Category_2 and Product_Category_3"
      ],
      "metadata": {
        "id": "MGOhzCZFivIM"
      },
      "execution_count": 52,
      "outputs": []
    },
    {
      "cell_type": "code",
      "source": [
        "trf1 = ColumnTransformer([\n",
        "                          ('impute_pc1_pc2' , SimpleImputer(strategy = \"constant\" , fill_value = -1) , [7,8])\n",
        "                          \n",
        "                          ],remainder = 'passthrough')"
      ],
      "metadata": {
        "id": "tr2qxnLWivKw"
      },
      "execution_count": 12,
      "outputs": []
    },
    {
      "cell_type": "code",
      "source": [
        "#one hot encoding for gender,age,city category,stay"
      ],
      "metadata": {
        "id": "li5AW0oLivNZ"
      },
      "execution_count": 54,
      "outputs": []
    },
    {
      "cell_type": "code",
      "source": [
        "trf2 = ColumnTransformer([\n",
        "                          ('ohe_gen_age_cc_stay_' , OneHotEncoder( drop='first',sparse = False, handle_unknown='ignore') , [0,1,3,4])\n",
        "],remainder = 'passthrough')"
      ],
      "metadata": {
        "id": "kxXwA1l7ivP-"
      },
      "execution_count": 90,
      "outputs": []
    },
    {
      "cell_type": "code",
      "source": [
        ""
      ],
      "metadata": {
        "id": "kgHmcZGXnWv_"
      },
      "execution_count": null,
      "outputs": []
    },
    {
      "cell_type": "code",
      "source": [
        "#applying standard scaler"
      ],
      "metadata": {
        "id": "zBdDQTm1ivTf"
      },
      "execution_count": 56,
      "outputs": []
    },
    {
      "cell_type": "code",
      "source": [
        "trf3 = ColumnTransformer([\n",
        "                          ('scale' , StandardScaler() , slice(0,18))\n",
        "])"
      ],
      "metadata": {
        "id": "z2FmbehyivYs"
      },
      "execution_count": 97,
      "outputs": []
    },
    {
      "cell_type": "code",
      "source": [
        "#applying kbest f_regression"
      ],
      "metadata": {
        "id": "sYknmbLOPnkA"
      },
      "execution_count": 58,
      "outputs": []
    },
    {
      "cell_type": "code",
      "source": [
        "trf4 = SelectKBest(score_func = f_regression, k = 10)"
      ],
      "metadata": {
        "id": "r_dE-Q0TPnn9"
      },
      "execution_count": 15,
      "outputs": []
    },
    {
      "cell_type": "code",
      "source": [
        "from sklearn.linear_model import LinearRegression\n",
        "from sklearn.linear_model import ElasticNet"
      ],
      "metadata": {
        "id": "dkNsnhn1ivd4"
      },
      "execution_count": 16,
      "outputs": []
    },
    {
      "cell_type": "code",
      "source": [
        "trf5 = LinearRegression()"
      ],
      "metadata": {
        "id": "OgfBTLr0ivhy"
      },
      "execution_count": 100,
      "outputs": []
    },
    {
      "cell_type": "code",
      "source": [
        "pipe = make_pipeline(trf1,trf2,trf3,trf4,trf5)"
      ],
      "metadata": {
        "id": "6cUdjFc2YNBA"
      },
      "execution_count": 62,
      "outputs": []
    },
    {
      "cell_type": "code",
      "source": [
        "b = X_train\n",
        "w = y_train"
      ],
      "metadata": {
        "id": "Fr1-F22iYNDh"
      },
      "execution_count": 104,
      "outputs": []
    },
    {
      "cell_type": "code",
      "source": [
        "pipe.fit(b , w)"
      ],
      "metadata": {
        "colab": {
          "base_uri": "https://localhost:8080/",
          "height": 428
        },
        "id": "yTvNrxU7YNGS",
        "outputId": "900a6915-a61b-41b1-e927-0e90827a106b"
      },
      "execution_count": 222,
      "outputs": [
        {
          "output_type": "execute_result",
          "data": {
            "text/plain": [
              "Pipeline(steps=[('columntransformer-1',\n",
              "                 ColumnTransformer(remainder='passthrough',\n",
              "                                   transformers=[('impute_pc1_pc2',\n",
              "                                                  SimpleImputer(fill_value=-1,\n",
              "                                                                strategy='constant'),\n",
              "                                                  [7, 8])])),\n",
              "                ('columntransformer-2',\n",
              "                 ColumnTransformer(remainder='passthrough',\n",
              "                                   transformers=[('ohe_gen_age_cc_stay_',\n",
              "                                                  OneHotEncoder(drop='first',\n",
              "                                                                handle_unknown='ignore',\n",
              "                                                                sparse=False),\n",
              "                                                  [0, 1, 3, 4])])),\n",
              "                ('columntransformer-3',\n",
              "                 ColumnTransformer(transformers=[('scale', StandardScaler(),\n",
              "                                                  slice(0, 18, None))])),\n",
              "                ('selectkbest',\n",
              "                 SelectKBest(score_func=<function f_regression at 0x7f506d060170>)),\n",
              "                ('linearregression', LinearRegression())])"
            ],
            "text/html": [
              "<style>#sk-dc2a0f55-421b-4fcb-b566-edd189e49dec {color: black;background-color: white;}#sk-dc2a0f55-421b-4fcb-b566-edd189e49dec pre{padding: 0;}#sk-dc2a0f55-421b-4fcb-b566-edd189e49dec div.sk-toggleable {background-color: white;}#sk-dc2a0f55-421b-4fcb-b566-edd189e49dec label.sk-toggleable__label {cursor: pointer;display: block;width: 100%;margin-bottom: 0;padding: 0.3em;box-sizing: border-box;text-align: center;}#sk-dc2a0f55-421b-4fcb-b566-edd189e49dec label.sk-toggleable__label-arrow:before {content: \"▸\";float: left;margin-right: 0.25em;color: #696969;}#sk-dc2a0f55-421b-4fcb-b566-edd189e49dec label.sk-toggleable__label-arrow:hover:before {color: black;}#sk-dc2a0f55-421b-4fcb-b566-edd189e49dec div.sk-estimator:hover label.sk-toggleable__label-arrow:before {color: black;}#sk-dc2a0f55-421b-4fcb-b566-edd189e49dec div.sk-toggleable__content {max-height: 0;max-width: 0;overflow: hidden;text-align: left;background-color: #f0f8ff;}#sk-dc2a0f55-421b-4fcb-b566-edd189e49dec div.sk-toggleable__content pre {margin: 0.2em;color: black;border-radius: 0.25em;background-color: #f0f8ff;}#sk-dc2a0f55-421b-4fcb-b566-edd189e49dec input.sk-toggleable__control:checked~div.sk-toggleable__content {max-height: 200px;max-width: 100%;overflow: auto;}#sk-dc2a0f55-421b-4fcb-b566-edd189e49dec input.sk-toggleable__control:checked~label.sk-toggleable__label-arrow:before {content: \"▾\";}#sk-dc2a0f55-421b-4fcb-b566-edd189e49dec div.sk-estimator input.sk-toggleable__control:checked~label.sk-toggleable__label {background-color: #d4ebff;}#sk-dc2a0f55-421b-4fcb-b566-edd189e49dec div.sk-label input.sk-toggleable__control:checked~label.sk-toggleable__label {background-color: #d4ebff;}#sk-dc2a0f55-421b-4fcb-b566-edd189e49dec input.sk-hidden--visually {border: 0;clip: rect(1px 1px 1px 1px);clip: rect(1px, 1px, 1px, 1px);height: 1px;margin: -1px;overflow: hidden;padding: 0;position: absolute;width: 1px;}#sk-dc2a0f55-421b-4fcb-b566-edd189e49dec div.sk-estimator {font-family: monospace;background-color: #f0f8ff;border: 1px dotted black;border-radius: 0.25em;box-sizing: border-box;margin-bottom: 0.5em;}#sk-dc2a0f55-421b-4fcb-b566-edd189e49dec div.sk-estimator:hover {background-color: #d4ebff;}#sk-dc2a0f55-421b-4fcb-b566-edd189e49dec div.sk-parallel-item::after {content: \"\";width: 100%;border-bottom: 1px solid gray;flex-grow: 1;}#sk-dc2a0f55-421b-4fcb-b566-edd189e49dec div.sk-label:hover label.sk-toggleable__label {background-color: #d4ebff;}#sk-dc2a0f55-421b-4fcb-b566-edd189e49dec div.sk-serial::before {content: \"\";position: absolute;border-left: 1px solid gray;box-sizing: border-box;top: 2em;bottom: 0;left: 50%;}#sk-dc2a0f55-421b-4fcb-b566-edd189e49dec div.sk-serial {display: flex;flex-direction: column;align-items: center;background-color: white;padding-right: 0.2em;padding-left: 0.2em;}#sk-dc2a0f55-421b-4fcb-b566-edd189e49dec div.sk-item {z-index: 1;}#sk-dc2a0f55-421b-4fcb-b566-edd189e49dec div.sk-parallel {display: flex;align-items: stretch;justify-content: center;background-color: white;}#sk-dc2a0f55-421b-4fcb-b566-edd189e49dec div.sk-parallel::before {content: \"\";position: absolute;border-left: 1px solid gray;box-sizing: border-box;top: 2em;bottom: 0;left: 50%;}#sk-dc2a0f55-421b-4fcb-b566-edd189e49dec div.sk-parallel-item {display: flex;flex-direction: column;position: relative;background-color: white;}#sk-dc2a0f55-421b-4fcb-b566-edd189e49dec div.sk-parallel-item:first-child::after {align-self: flex-end;width: 50%;}#sk-dc2a0f55-421b-4fcb-b566-edd189e49dec div.sk-parallel-item:last-child::after {align-self: flex-start;width: 50%;}#sk-dc2a0f55-421b-4fcb-b566-edd189e49dec div.sk-parallel-item:only-child::after {width: 0;}#sk-dc2a0f55-421b-4fcb-b566-edd189e49dec div.sk-dashed-wrapped {border: 1px dashed gray;margin: 0 0.4em 0.5em 0.4em;box-sizing: border-box;padding-bottom: 0.4em;background-color: white;position: relative;}#sk-dc2a0f55-421b-4fcb-b566-edd189e49dec div.sk-label label {font-family: monospace;font-weight: bold;background-color: white;display: inline-block;line-height: 1.2em;}#sk-dc2a0f55-421b-4fcb-b566-edd189e49dec div.sk-label-container {position: relative;z-index: 2;text-align: center;}#sk-dc2a0f55-421b-4fcb-b566-edd189e49dec div.sk-container {/* jupyter's `normalize.less` sets `[hidden] { display: none; }` but bootstrap.min.css set `[hidden] { display: none !important; }` so we also need the `!important` here to be able to override the default hidden behavior on the sphinx rendered scikit-learn.org. See: https://github.com/scikit-learn/scikit-learn/issues/21755 */display: inline-block !important;position: relative;}#sk-dc2a0f55-421b-4fcb-b566-edd189e49dec div.sk-text-repr-fallback {display: none;}</style><div id=\"sk-dc2a0f55-421b-4fcb-b566-edd189e49dec\" class=\"sk-top-container\"><div class=\"sk-text-repr-fallback\"><pre>Pipeline(steps=[(&#x27;columntransformer-1&#x27;,\n",
              "                 ColumnTransformer(remainder=&#x27;passthrough&#x27;,\n",
              "                                   transformers=[(&#x27;impute_pc1_pc2&#x27;,\n",
              "                                                  SimpleImputer(fill_value=-1,\n",
              "                                                                strategy=&#x27;constant&#x27;),\n",
              "                                                  [7, 8])])),\n",
              "                (&#x27;columntransformer-2&#x27;,\n",
              "                 ColumnTransformer(remainder=&#x27;passthrough&#x27;,\n",
              "                                   transformers=[(&#x27;ohe_gen_age_cc_stay_&#x27;,\n",
              "                                                  OneHotEncoder(drop=&#x27;first&#x27;,\n",
              "                                                                handle_unknown=&#x27;ignore&#x27;,\n",
              "                                                                sparse=False),\n",
              "                                                  [0, 1, 3, 4])])),\n",
              "                (&#x27;columntransformer-3&#x27;,\n",
              "                 ColumnTransformer(transformers=[(&#x27;scale&#x27;, StandardScaler(),\n",
              "                                                  slice(0, 18, None))])),\n",
              "                (&#x27;selectkbest&#x27;,\n",
              "                 SelectKBest(score_func=&lt;function f_regression at 0x7f506d060170&gt;)),\n",
              "                (&#x27;linearregression&#x27;, LinearRegression())])</pre><b>Please rerun this cell to show the HTML repr or trust the notebook.</b></div><div class=\"sk-container\" hidden><div class=\"sk-item sk-dashed-wrapped\"><div class=\"sk-label-container\"><div class=\"sk-label sk-toggleable\"><input class=\"sk-toggleable__control sk-hidden--visually\" id=\"6dde1af1-0118-46f2-841d-bcdb2e017050\" type=\"checkbox\" ><label for=\"6dde1af1-0118-46f2-841d-bcdb2e017050\" class=\"sk-toggleable__label sk-toggleable__label-arrow\">Pipeline</label><div class=\"sk-toggleable__content\"><pre>Pipeline(steps=[(&#x27;columntransformer-1&#x27;,\n",
              "                 ColumnTransformer(remainder=&#x27;passthrough&#x27;,\n",
              "                                   transformers=[(&#x27;impute_pc1_pc2&#x27;,\n",
              "                                                  SimpleImputer(fill_value=-1,\n",
              "                                                                strategy=&#x27;constant&#x27;),\n",
              "                                                  [7, 8])])),\n",
              "                (&#x27;columntransformer-2&#x27;,\n",
              "                 ColumnTransformer(remainder=&#x27;passthrough&#x27;,\n",
              "                                   transformers=[(&#x27;ohe_gen_age_cc_stay_&#x27;,\n",
              "                                                  OneHotEncoder(drop=&#x27;first&#x27;,\n",
              "                                                                handle_unknown=&#x27;ignore&#x27;,\n",
              "                                                                sparse=False),\n",
              "                                                  [0, 1, 3, 4])])),\n",
              "                (&#x27;columntransformer-3&#x27;,\n",
              "                 ColumnTransformer(transformers=[(&#x27;scale&#x27;, StandardScaler(),\n",
              "                                                  slice(0, 18, None))])),\n",
              "                (&#x27;selectkbest&#x27;,\n",
              "                 SelectKBest(score_func=&lt;function f_regression at 0x7f506d060170&gt;)),\n",
              "                (&#x27;linearregression&#x27;, LinearRegression())])</pre></div></div></div><div class=\"sk-serial\"><div class=\"sk-item sk-dashed-wrapped\"><div class=\"sk-label-container\"><div class=\"sk-label sk-toggleable\"><input class=\"sk-toggleable__control sk-hidden--visually\" id=\"b69140a5-d59e-489d-a5ed-971ce23ae73a\" type=\"checkbox\" ><label for=\"b69140a5-d59e-489d-a5ed-971ce23ae73a\" class=\"sk-toggleable__label sk-toggleable__label-arrow\">columntransformer-1: ColumnTransformer</label><div class=\"sk-toggleable__content\"><pre>ColumnTransformer(remainder=&#x27;passthrough&#x27;,\n",
              "                  transformers=[(&#x27;impute_pc1_pc2&#x27;,\n",
              "                                 SimpleImputer(fill_value=-1,\n",
              "                                               strategy=&#x27;constant&#x27;),\n",
              "                                 [7, 8])])</pre></div></div></div><div class=\"sk-parallel\"><div class=\"sk-parallel-item\"><div class=\"sk-item\"><div class=\"sk-label-container\"><div class=\"sk-label sk-toggleable\"><input class=\"sk-toggleable__control sk-hidden--visually\" id=\"44bbc317-5df3-4176-9e02-74e40c9b0b76\" type=\"checkbox\" ><label for=\"44bbc317-5df3-4176-9e02-74e40c9b0b76\" class=\"sk-toggleable__label sk-toggleable__label-arrow\">impute_pc1_pc2</label><div class=\"sk-toggleable__content\"><pre>[7, 8]</pre></div></div></div><div class=\"sk-serial\"><div class=\"sk-item\"><div class=\"sk-estimator sk-toggleable\"><input class=\"sk-toggleable__control sk-hidden--visually\" id=\"570a23f2-f63f-4832-b283-e65b4551a8f7\" type=\"checkbox\" ><label for=\"570a23f2-f63f-4832-b283-e65b4551a8f7\" class=\"sk-toggleable__label sk-toggleable__label-arrow\">SimpleImputer</label><div class=\"sk-toggleable__content\"><pre>SimpleImputer(fill_value=-1, strategy=&#x27;constant&#x27;)</pre></div></div></div></div></div></div><div class=\"sk-parallel-item\"><div class=\"sk-item\"><div class=\"sk-label-container\"><div class=\"sk-label sk-toggleable\"><input class=\"sk-toggleable__control sk-hidden--visually\" id=\"650863ff-8f19-4cb2-a29b-0106f95e81c1\" type=\"checkbox\" ><label for=\"650863ff-8f19-4cb2-a29b-0106f95e81c1\" class=\"sk-toggleable__label sk-toggleable__label-arrow\">remainder</label><div class=\"sk-toggleable__content\"><pre>[&#x27;Gender&#x27;, &#x27;Age&#x27;, &#x27;Occupation&#x27;, &#x27;City_Category&#x27;, &#x27;Stay_In_Current_City_Years&#x27;, &#x27;Marital_Status&#x27;, &#x27;Product_Category_1&#x27;]</pre></div></div></div><div class=\"sk-serial\"><div class=\"sk-item\"><div class=\"sk-estimator sk-toggleable\"><input class=\"sk-toggleable__control sk-hidden--visually\" id=\"2481412d-88ff-490d-a209-aeb93dfce0c2\" type=\"checkbox\" ><label for=\"2481412d-88ff-490d-a209-aeb93dfce0c2\" class=\"sk-toggleable__label sk-toggleable__label-arrow\">passthrough</label><div class=\"sk-toggleable__content\"><pre>passthrough</pre></div></div></div></div></div></div></div></div><div class=\"sk-item sk-dashed-wrapped\"><div class=\"sk-label-container\"><div class=\"sk-label sk-toggleable\"><input class=\"sk-toggleable__control sk-hidden--visually\" id=\"8adf9bdc-e958-43f9-96f8-5e77c523ead9\" type=\"checkbox\" ><label for=\"8adf9bdc-e958-43f9-96f8-5e77c523ead9\" class=\"sk-toggleable__label sk-toggleable__label-arrow\">columntransformer-2: ColumnTransformer</label><div class=\"sk-toggleable__content\"><pre>ColumnTransformer(remainder=&#x27;passthrough&#x27;,\n",
              "                  transformers=[(&#x27;ohe_gen_age_cc_stay_&#x27;,\n",
              "                                 OneHotEncoder(drop=&#x27;first&#x27;,\n",
              "                                               handle_unknown=&#x27;ignore&#x27;,\n",
              "                                               sparse=False),\n",
              "                                 [0, 1, 3, 4])])</pre></div></div></div><div class=\"sk-parallel\"><div class=\"sk-parallel-item\"><div class=\"sk-item\"><div class=\"sk-label-container\"><div class=\"sk-label sk-toggleable\"><input class=\"sk-toggleable__control sk-hidden--visually\" id=\"b3b7013c-7e85-4a20-98cd-b0014003c50a\" type=\"checkbox\" ><label for=\"b3b7013c-7e85-4a20-98cd-b0014003c50a\" class=\"sk-toggleable__label sk-toggleable__label-arrow\">ohe_gen_age_cc_stay_</label><div class=\"sk-toggleable__content\"><pre>[0, 1, 3, 4]</pre></div></div></div><div class=\"sk-serial\"><div class=\"sk-item\"><div class=\"sk-estimator sk-toggleable\"><input class=\"sk-toggleable__control sk-hidden--visually\" id=\"67a06698-3862-4dd0-91ca-4b9e451a3707\" type=\"checkbox\" ><label for=\"67a06698-3862-4dd0-91ca-4b9e451a3707\" class=\"sk-toggleable__label sk-toggleable__label-arrow\">OneHotEncoder</label><div class=\"sk-toggleable__content\"><pre>OneHotEncoder(drop=&#x27;first&#x27;, handle_unknown=&#x27;ignore&#x27;, sparse=False)</pre></div></div></div></div></div></div><div class=\"sk-parallel-item\"><div class=\"sk-item\"><div class=\"sk-label-container\"><div class=\"sk-label sk-toggleable\"><input class=\"sk-toggleable__control sk-hidden--visually\" id=\"52569b12-5c65-435e-b51d-7da06c158701\" type=\"checkbox\" ><label for=\"52569b12-5c65-435e-b51d-7da06c158701\" class=\"sk-toggleable__label sk-toggleable__label-arrow\">remainder</label><div class=\"sk-toggleable__content\"><pre>[2, 5, 6, 7, 8]</pre></div></div></div><div class=\"sk-serial\"><div class=\"sk-item\"><div class=\"sk-estimator sk-toggleable\"><input class=\"sk-toggleable__control sk-hidden--visually\" id=\"60620c01-7562-42f9-a124-e610e2bd7aac\" type=\"checkbox\" ><label for=\"60620c01-7562-42f9-a124-e610e2bd7aac\" class=\"sk-toggleable__label sk-toggleable__label-arrow\">passthrough</label><div class=\"sk-toggleable__content\"><pre>passthrough</pre></div></div></div></div></div></div></div></div><div class=\"sk-item sk-dashed-wrapped\"><div class=\"sk-label-container\"><div class=\"sk-label sk-toggleable\"><input class=\"sk-toggleable__control sk-hidden--visually\" id=\"2a5456e7-b4e4-4be6-a83e-5a8e5fb77810\" type=\"checkbox\" ><label for=\"2a5456e7-b4e4-4be6-a83e-5a8e5fb77810\" class=\"sk-toggleable__label sk-toggleable__label-arrow\">columntransformer-3: ColumnTransformer</label><div class=\"sk-toggleable__content\"><pre>ColumnTransformer(transformers=[(&#x27;scale&#x27;, StandardScaler(),\n",
              "                                 slice(0, 18, None))])</pre></div></div></div><div class=\"sk-parallel\"><div class=\"sk-parallel-item\"><div class=\"sk-item\"><div class=\"sk-label-container\"><div class=\"sk-label sk-toggleable\"><input class=\"sk-toggleable__control sk-hidden--visually\" id=\"736825d8-64d0-406f-9395-9ffb7f6e7ada\" type=\"checkbox\" ><label for=\"736825d8-64d0-406f-9395-9ffb7f6e7ada\" class=\"sk-toggleable__label sk-toggleable__label-arrow\">scale</label><div class=\"sk-toggleable__content\"><pre>slice(0, 18, None)</pre></div></div></div><div class=\"sk-serial\"><div class=\"sk-item\"><div class=\"sk-estimator sk-toggleable\"><input class=\"sk-toggleable__control sk-hidden--visually\" id=\"32c31cd2-d08d-440e-bb09-03cd2601f661\" type=\"checkbox\" ><label for=\"32c31cd2-d08d-440e-bb09-03cd2601f661\" class=\"sk-toggleable__label sk-toggleable__label-arrow\">StandardScaler</label><div class=\"sk-toggleable__content\"><pre>StandardScaler()</pre></div></div></div></div></div></div></div></div><div class=\"sk-item\"><div class=\"sk-estimator sk-toggleable\"><input class=\"sk-toggleable__control sk-hidden--visually\" id=\"1f7e8c03-e76a-4bf2-95a7-9eba2778f788\" type=\"checkbox\" ><label for=\"1f7e8c03-e76a-4bf2-95a7-9eba2778f788\" class=\"sk-toggleable__label sk-toggleable__label-arrow\">SelectKBest</label><div class=\"sk-toggleable__content\"><pre>SelectKBest(score_func=&lt;function f_regression at 0x7f506d060170&gt;)</pre></div></div></div><div class=\"sk-item\"><div class=\"sk-estimator sk-toggleable\"><input class=\"sk-toggleable__control sk-hidden--visually\" id=\"2efde692-86ea-4c98-9355-04018f613cc9\" type=\"checkbox\" ><label for=\"2efde692-86ea-4c98-9355-04018f613cc9\" class=\"sk-toggleable__label sk-toggleable__label-arrow\">LinearRegression</label><div class=\"sk-toggleable__content\"><pre>LinearRegression()</pre></div></div></div></div></div></div></div>"
            ]
          },
          "metadata": {},
          "execution_count": 222
        }
      ]
    },
    {
      "cell_type": "code",
      "source": [
        "from sklearn import set_config\n",
        "set_config(display = 'diagram') "
      ],
      "metadata": {
        "id": "n_LJAQMIYNJG"
      },
      "execution_count": 72,
      "outputs": []
    },
    {
      "cell_type": "code",
      "source": [
        "y_pred = pipe.predict(X_test)"
      ],
      "metadata": {
        "id": "y5x408-TYNMY"
      },
      "execution_count": 224,
      "outputs": []
    },
    {
      "cell_type": "code",
      "source": [
        "from sklearn.metrics import mean_squared_error as mse\n",
        "mse(y_pred  , y_test) ** 0.5"
      ],
      "metadata": {
        "colab": {
          "base_uri": "https://localhost:8080/"
        },
        "id": "PNgZafMNYNPJ",
        "outputId": "e76b16d9-0381-474c-a249-489bf8e7427b"
      },
      "execution_count": 77,
      "outputs": [
        {
          "output_type": "execute_result",
          "data": {
            "text/plain": [
              "4635.806746664583"
            ]
          },
          "metadata": {},
          "execution_count": 77
        }
      ]
    },
    {
      "cell_type": "code",
      "source": [
        "from sklearn.model_selection import GridSearchCV"
      ],
      "metadata": {
        "id": "W6XX-yfiYNRg"
      },
      "execution_count": 78,
      "outputs": []
    },
    {
      "cell_type": "code",
      "source": [
        "from sklearn.linear_model import ElasticNet\n",
        "\n",
        "trf6 = ElasticNet(alpha = 0.01 , l1_ratio = 0.5)"
      ],
      "metadata": {
        "id": "1eTmyduzarmz"
      },
      "execution_count": 18,
      "outputs": []
    },
    {
      "cell_type": "code",
      "source": [
        "elastic_pipe = make_pipeline(trf1,trf2,trf3,trf4,trf6)"
      ],
      "metadata": {
        "id": "XK68aLVZarp0"
      },
      "execution_count": 19,
      "outputs": []
    },
    {
      "cell_type": "code",
      "source": [
        "elastic_pipe.fit(b , w)"
      ],
      "metadata": {
        "colab": {
          "base_uri": "https://localhost:8080/",
          "height": 428
        },
        "id": "EoisSJ23arwL",
        "outputId": "f1aa135f-6e42-4018-d85e-0104d9cfdbd6"
      },
      "execution_count": 205,
      "outputs": [
        {
          "output_type": "execute_result",
          "data": {
            "text/plain": [
              "Pipeline(steps=[('columntransformer-1',\n",
              "                 ColumnTransformer(remainder='passthrough',\n",
              "                                   transformers=[('impute_pc1_pc2',\n",
              "                                                  SimpleImputer(fill_value=-1,\n",
              "                                                                strategy='constant'),\n",
              "                                                  [7, 8])])),\n",
              "                ('columntransformer-2',\n",
              "                 ColumnTransformer(remainder='passthrough',\n",
              "                                   transformers=[('ohe_gen_age_cc_stay_',\n",
              "                                                  OneHotEncoder(drop='first',\n",
              "                                                                handle_unknown='ignore',\n",
              "                                                                sparse=False),\n",
              "                                                  [0, 1, 3, 4])])),\n",
              "                ('columntransformer-3',\n",
              "                 ColumnTransformer(transformers=[('scale', StandardScaler(),\n",
              "                                                  slice(0, 18, None))])),\n",
              "                ('selectkbest',\n",
              "                 SelectKBest(score_func=<function f_regression at 0x7f506d060170>)),\n",
              "                ('elasticnet', ElasticNet(alpha=0.01))])"
            ],
            "text/html": [
              "<style>#sk-455d5571-5e90-4723-ada9-73685277aa51 {color: black;background-color: white;}#sk-455d5571-5e90-4723-ada9-73685277aa51 pre{padding: 0;}#sk-455d5571-5e90-4723-ada9-73685277aa51 div.sk-toggleable {background-color: white;}#sk-455d5571-5e90-4723-ada9-73685277aa51 label.sk-toggleable__label {cursor: pointer;display: block;width: 100%;margin-bottom: 0;padding: 0.3em;box-sizing: border-box;text-align: center;}#sk-455d5571-5e90-4723-ada9-73685277aa51 label.sk-toggleable__label-arrow:before {content: \"▸\";float: left;margin-right: 0.25em;color: #696969;}#sk-455d5571-5e90-4723-ada9-73685277aa51 label.sk-toggleable__label-arrow:hover:before {color: black;}#sk-455d5571-5e90-4723-ada9-73685277aa51 div.sk-estimator:hover label.sk-toggleable__label-arrow:before {color: black;}#sk-455d5571-5e90-4723-ada9-73685277aa51 div.sk-toggleable__content {max-height: 0;max-width: 0;overflow: hidden;text-align: left;background-color: #f0f8ff;}#sk-455d5571-5e90-4723-ada9-73685277aa51 div.sk-toggleable__content pre {margin: 0.2em;color: black;border-radius: 0.25em;background-color: #f0f8ff;}#sk-455d5571-5e90-4723-ada9-73685277aa51 input.sk-toggleable__control:checked~div.sk-toggleable__content {max-height: 200px;max-width: 100%;overflow: auto;}#sk-455d5571-5e90-4723-ada9-73685277aa51 input.sk-toggleable__control:checked~label.sk-toggleable__label-arrow:before {content: \"▾\";}#sk-455d5571-5e90-4723-ada9-73685277aa51 div.sk-estimator input.sk-toggleable__control:checked~label.sk-toggleable__label {background-color: #d4ebff;}#sk-455d5571-5e90-4723-ada9-73685277aa51 div.sk-label input.sk-toggleable__control:checked~label.sk-toggleable__label {background-color: #d4ebff;}#sk-455d5571-5e90-4723-ada9-73685277aa51 input.sk-hidden--visually {border: 0;clip: rect(1px 1px 1px 1px);clip: rect(1px, 1px, 1px, 1px);height: 1px;margin: -1px;overflow: hidden;padding: 0;position: absolute;width: 1px;}#sk-455d5571-5e90-4723-ada9-73685277aa51 div.sk-estimator {font-family: monospace;background-color: #f0f8ff;border: 1px dotted black;border-radius: 0.25em;box-sizing: border-box;margin-bottom: 0.5em;}#sk-455d5571-5e90-4723-ada9-73685277aa51 div.sk-estimator:hover {background-color: #d4ebff;}#sk-455d5571-5e90-4723-ada9-73685277aa51 div.sk-parallel-item::after {content: \"\";width: 100%;border-bottom: 1px solid gray;flex-grow: 1;}#sk-455d5571-5e90-4723-ada9-73685277aa51 div.sk-label:hover label.sk-toggleable__label {background-color: #d4ebff;}#sk-455d5571-5e90-4723-ada9-73685277aa51 div.sk-serial::before {content: \"\";position: absolute;border-left: 1px solid gray;box-sizing: border-box;top: 2em;bottom: 0;left: 50%;}#sk-455d5571-5e90-4723-ada9-73685277aa51 div.sk-serial {display: flex;flex-direction: column;align-items: center;background-color: white;padding-right: 0.2em;padding-left: 0.2em;}#sk-455d5571-5e90-4723-ada9-73685277aa51 div.sk-item {z-index: 1;}#sk-455d5571-5e90-4723-ada9-73685277aa51 div.sk-parallel {display: flex;align-items: stretch;justify-content: center;background-color: white;}#sk-455d5571-5e90-4723-ada9-73685277aa51 div.sk-parallel::before {content: \"\";position: absolute;border-left: 1px solid gray;box-sizing: border-box;top: 2em;bottom: 0;left: 50%;}#sk-455d5571-5e90-4723-ada9-73685277aa51 div.sk-parallel-item {display: flex;flex-direction: column;position: relative;background-color: white;}#sk-455d5571-5e90-4723-ada9-73685277aa51 div.sk-parallel-item:first-child::after {align-self: flex-end;width: 50%;}#sk-455d5571-5e90-4723-ada9-73685277aa51 div.sk-parallel-item:last-child::after {align-self: flex-start;width: 50%;}#sk-455d5571-5e90-4723-ada9-73685277aa51 div.sk-parallel-item:only-child::after {width: 0;}#sk-455d5571-5e90-4723-ada9-73685277aa51 div.sk-dashed-wrapped {border: 1px dashed gray;margin: 0 0.4em 0.5em 0.4em;box-sizing: border-box;padding-bottom: 0.4em;background-color: white;position: relative;}#sk-455d5571-5e90-4723-ada9-73685277aa51 div.sk-label label {font-family: monospace;font-weight: bold;background-color: white;display: inline-block;line-height: 1.2em;}#sk-455d5571-5e90-4723-ada9-73685277aa51 div.sk-label-container {position: relative;z-index: 2;text-align: center;}#sk-455d5571-5e90-4723-ada9-73685277aa51 div.sk-container {/* jupyter's `normalize.less` sets `[hidden] { display: none; }` but bootstrap.min.css set `[hidden] { display: none !important; }` so we also need the `!important` here to be able to override the default hidden behavior on the sphinx rendered scikit-learn.org. See: https://github.com/scikit-learn/scikit-learn/issues/21755 */display: inline-block !important;position: relative;}#sk-455d5571-5e90-4723-ada9-73685277aa51 div.sk-text-repr-fallback {display: none;}</style><div id=\"sk-455d5571-5e90-4723-ada9-73685277aa51\" class=\"sk-top-container\"><div class=\"sk-text-repr-fallback\"><pre>Pipeline(steps=[(&#x27;columntransformer-1&#x27;,\n",
              "                 ColumnTransformer(remainder=&#x27;passthrough&#x27;,\n",
              "                                   transformers=[(&#x27;impute_pc1_pc2&#x27;,\n",
              "                                                  SimpleImputer(fill_value=-1,\n",
              "                                                                strategy=&#x27;constant&#x27;),\n",
              "                                                  [7, 8])])),\n",
              "                (&#x27;columntransformer-2&#x27;,\n",
              "                 ColumnTransformer(remainder=&#x27;passthrough&#x27;,\n",
              "                                   transformers=[(&#x27;ohe_gen_age_cc_stay_&#x27;,\n",
              "                                                  OneHotEncoder(drop=&#x27;first&#x27;,\n",
              "                                                                handle_unknown=&#x27;ignore&#x27;,\n",
              "                                                                sparse=False),\n",
              "                                                  [0, 1, 3, 4])])),\n",
              "                (&#x27;columntransformer-3&#x27;,\n",
              "                 ColumnTransformer(transformers=[(&#x27;scale&#x27;, StandardScaler(),\n",
              "                                                  slice(0, 18, None))])),\n",
              "                (&#x27;selectkbest&#x27;,\n",
              "                 SelectKBest(score_func=&lt;function f_regression at 0x7f506d060170&gt;)),\n",
              "                (&#x27;elasticnet&#x27;, ElasticNet(alpha=0.01))])</pre><b>Please rerun this cell to show the HTML repr or trust the notebook.</b></div><div class=\"sk-container\" hidden><div class=\"sk-item sk-dashed-wrapped\"><div class=\"sk-label-container\"><div class=\"sk-label sk-toggleable\"><input class=\"sk-toggleable__control sk-hidden--visually\" id=\"ce382e63-1f35-4155-aa1b-a959404ef10b\" type=\"checkbox\" ><label for=\"ce382e63-1f35-4155-aa1b-a959404ef10b\" class=\"sk-toggleable__label sk-toggleable__label-arrow\">Pipeline</label><div class=\"sk-toggleable__content\"><pre>Pipeline(steps=[(&#x27;columntransformer-1&#x27;,\n",
              "                 ColumnTransformer(remainder=&#x27;passthrough&#x27;,\n",
              "                                   transformers=[(&#x27;impute_pc1_pc2&#x27;,\n",
              "                                                  SimpleImputer(fill_value=-1,\n",
              "                                                                strategy=&#x27;constant&#x27;),\n",
              "                                                  [7, 8])])),\n",
              "                (&#x27;columntransformer-2&#x27;,\n",
              "                 ColumnTransformer(remainder=&#x27;passthrough&#x27;,\n",
              "                                   transformers=[(&#x27;ohe_gen_age_cc_stay_&#x27;,\n",
              "                                                  OneHotEncoder(drop=&#x27;first&#x27;,\n",
              "                                                                handle_unknown=&#x27;ignore&#x27;,\n",
              "                                                                sparse=False),\n",
              "                                                  [0, 1, 3, 4])])),\n",
              "                (&#x27;columntransformer-3&#x27;,\n",
              "                 ColumnTransformer(transformers=[(&#x27;scale&#x27;, StandardScaler(),\n",
              "                                                  slice(0, 18, None))])),\n",
              "                (&#x27;selectkbest&#x27;,\n",
              "                 SelectKBest(score_func=&lt;function f_regression at 0x7f506d060170&gt;)),\n",
              "                (&#x27;elasticnet&#x27;, ElasticNet(alpha=0.01))])</pre></div></div></div><div class=\"sk-serial\"><div class=\"sk-item sk-dashed-wrapped\"><div class=\"sk-label-container\"><div class=\"sk-label sk-toggleable\"><input class=\"sk-toggleable__control sk-hidden--visually\" id=\"f4f3a9eb-36ad-4df3-a3c0-327acefab153\" type=\"checkbox\" ><label for=\"f4f3a9eb-36ad-4df3-a3c0-327acefab153\" class=\"sk-toggleable__label sk-toggleable__label-arrow\">columntransformer-1: ColumnTransformer</label><div class=\"sk-toggleable__content\"><pre>ColumnTransformer(remainder=&#x27;passthrough&#x27;,\n",
              "                  transformers=[(&#x27;impute_pc1_pc2&#x27;,\n",
              "                                 SimpleImputer(fill_value=-1,\n",
              "                                               strategy=&#x27;constant&#x27;),\n",
              "                                 [7, 8])])</pre></div></div></div><div class=\"sk-parallel\"><div class=\"sk-parallel-item\"><div class=\"sk-item\"><div class=\"sk-label-container\"><div class=\"sk-label sk-toggleable\"><input class=\"sk-toggleable__control sk-hidden--visually\" id=\"4629db74-2ce5-4a7a-b8b3-5109bee94e7a\" type=\"checkbox\" ><label for=\"4629db74-2ce5-4a7a-b8b3-5109bee94e7a\" class=\"sk-toggleable__label sk-toggleable__label-arrow\">impute_pc1_pc2</label><div class=\"sk-toggleable__content\"><pre>[7, 8]</pre></div></div></div><div class=\"sk-serial\"><div class=\"sk-item\"><div class=\"sk-estimator sk-toggleable\"><input class=\"sk-toggleable__control sk-hidden--visually\" id=\"83b9523a-8767-4fce-893b-c597fd10a821\" type=\"checkbox\" ><label for=\"83b9523a-8767-4fce-893b-c597fd10a821\" class=\"sk-toggleable__label sk-toggleable__label-arrow\">SimpleImputer</label><div class=\"sk-toggleable__content\"><pre>SimpleImputer(fill_value=-1, strategy=&#x27;constant&#x27;)</pre></div></div></div></div></div></div><div class=\"sk-parallel-item\"><div class=\"sk-item\"><div class=\"sk-label-container\"><div class=\"sk-label sk-toggleable\"><input class=\"sk-toggleable__control sk-hidden--visually\" id=\"61707a7b-28a5-4d28-ab49-35a0a420e43e\" type=\"checkbox\" ><label for=\"61707a7b-28a5-4d28-ab49-35a0a420e43e\" class=\"sk-toggleable__label sk-toggleable__label-arrow\">remainder</label><div class=\"sk-toggleable__content\"><pre>[&#x27;Gender&#x27;, &#x27;Age&#x27;, &#x27;Occupation&#x27;, &#x27;City_Category&#x27;, &#x27;Stay_In_Current_City_Years&#x27;, &#x27;Marital_Status&#x27;, &#x27;Product_Category_1&#x27;]</pre></div></div></div><div class=\"sk-serial\"><div class=\"sk-item\"><div class=\"sk-estimator sk-toggleable\"><input class=\"sk-toggleable__control sk-hidden--visually\" id=\"66443067-7c87-42cd-8b38-7eb436eaa7bf\" type=\"checkbox\" ><label for=\"66443067-7c87-42cd-8b38-7eb436eaa7bf\" class=\"sk-toggleable__label sk-toggleable__label-arrow\">passthrough</label><div class=\"sk-toggleable__content\"><pre>passthrough</pre></div></div></div></div></div></div></div></div><div class=\"sk-item sk-dashed-wrapped\"><div class=\"sk-label-container\"><div class=\"sk-label sk-toggleable\"><input class=\"sk-toggleable__control sk-hidden--visually\" id=\"8979597b-12fa-4919-92fe-3ed49cfd3d77\" type=\"checkbox\" ><label for=\"8979597b-12fa-4919-92fe-3ed49cfd3d77\" class=\"sk-toggleable__label sk-toggleable__label-arrow\">columntransformer-2: ColumnTransformer</label><div class=\"sk-toggleable__content\"><pre>ColumnTransformer(remainder=&#x27;passthrough&#x27;,\n",
              "                  transformers=[(&#x27;ohe_gen_age_cc_stay_&#x27;,\n",
              "                                 OneHotEncoder(drop=&#x27;first&#x27;,\n",
              "                                               handle_unknown=&#x27;ignore&#x27;,\n",
              "                                               sparse=False),\n",
              "                                 [0, 1, 3, 4])])</pre></div></div></div><div class=\"sk-parallel\"><div class=\"sk-parallel-item\"><div class=\"sk-item\"><div class=\"sk-label-container\"><div class=\"sk-label sk-toggleable\"><input class=\"sk-toggleable__control sk-hidden--visually\" id=\"598345c9-9c57-46bb-a884-1ee49de1665b\" type=\"checkbox\" ><label for=\"598345c9-9c57-46bb-a884-1ee49de1665b\" class=\"sk-toggleable__label sk-toggleable__label-arrow\">ohe_gen_age_cc_stay_</label><div class=\"sk-toggleable__content\"><pre>[0, 1, 3, 4]</pre></div></div></div><div class=\"sk-serial\"><div class=\"sk-item\"><div class=\"sk-estimator sk-toggleable\"><input class=\"sk-toggleable__control sk-hidden--visually\" id=\"461fe98c-90ae-426f-a914-810b8454a615\" type=\"checkbox\" ><label for=\"461fe98c-90ae-426f-a914-810b8454a615\" class=\"sk-toggleable__label sk-toggleable__label-arrow\">OneHotEncoder</label><div class=\"sk-toggleable__content\"><pre>OneHotEncoder(drop=&#x27;first&#x27;, handle_unknown=&#x27;ignore&#x27;, sparse=False)</pre></div></div></div></div></div></div><div class=\"sk-parallel-item\"><div class=\"sk-item\"><div class=\"sk-label-container\"><div class=\"sk-label sk-toggleable\"><input class=\"sk-toggleable__control sk-hidden--visually\" id=\"c2fbf306-58a9-4535-9f27-51334d4e2ea2\" type=\"checkbox\" ><label for=\"c2fbf306-58a9-4535-9f27-51334d4e2ea2\" class=\"sk-toggleable__label sk-toggleable__label-arrow\">remainder</label><div class=\"sk-toggleable__content\"><pre>[2, 5, 6, 7, 8]</pre></div></div></div><div class=\"sk-serial\"><div class=\"sk-item\"><div class=\"sk-estimator sk-toggleable\"><input class=\"sk-toggleable__control sk-hidden--visually\" id=\"fd2c942d-5000-479c-96b5-6d3b2c951c22\" type=\"checkbox\" ><label for=\"fd2c942d-5000-479c-96b5-6d3b2c951c22\" class=\"sk-toggleable__label sk-toggleable__label-arrow\">passthrough</label><div class=\"sk-toggleable__content\"><pre>passthrough</pre></div></div></div></div></div></div></div></div><div class=\"sk-item sk-dashed-wrapped\"><div class=\"sk-label-container\"><div class=\"sk-label sk-toggleable\"><input class=\"sk-toggleable__control sk-hidden--visually\" id=\"8b787c69-23f8-4094-8f37-42df56a95153\" type=\"checkbox\" ><label for=\"8b787c69-23f8-4094-8f37-42df56a95153\" class=\"sk-toggleable__label sk-toggleable__label-arrow\">columntransformer-3: ColumnTransformer</label><div class=\"sk-toggleable__content\"><pre>ColumnTransformer(transformers=[(&#x27;scale&#x27;, StandardScaler(),\n",
              "                                 slice(0, 18, None))])</pre></div></div></div><div class=\"sk-parallel\"><div class=\"sk-parallel-item\"><div class=\"sk-item\"><div class=\"sk-label-container\"><div class=\"sk-label sk-toggleable\"><input class=\"sk-toggleable__control sk-hidden--visually\" id=\"2f212c3e-9b85-4f37-b4a3-a8a464cb3274\" type=\"checkbox\" ><label for=\"2f212c3e-9b85-4f37-b4a3-a8a464cb3274\" class=\"sk-toggleable__label sk-toggleable__label-arrow\">scale</label><div class=\"sk-toggleable__content\"><pre>slice(0, 18, None)</pre></div></div></div><div class=\"sk-serial\"><div class=\"sk-item\"><div class=\"sk-estimator sk-toggleable\"><input class=\"sk-toggleable__control sk-hidden--visually\" id=\"107f5af1-2e18-4f40-9cf1-38babbe94948\" type=\"checkbox\" ><label for=\"107f5af1-2e18-4f40-9cf1-38babbe94948\" class=\"sk-toggleable__label sk-toggleable__label-arrow\">StandardScaler</label><div class=\"sk-toggleable__content\"><pre>StandardScaler()</pre></div></div></div></div></div></div></div></div><div class=\"sk-item\"><div class=\"sk-estimator sk-toggleable\"><input class=\"sk-toggleable__control sk-hidden--visually\" id=\"d4f82e72-231f-47db-8d36-3ee3e68c98b6\" type=\"checkbox\" ><label for=\"d4f82e72-231f-47db-8d36-3ee3e68c98b6\" class=\"sk-toggleable__label sk-toggleable__label-arrow\">SelectKBest</label><div class=\"sk-toggleable__content\"><pre>SelectKBest(score_func=&lt;function f_regression at 0x7f506d060170&gt;)</pre></div></div></div><div class=\"sk-item\"><div class=\"sk-estimator sk-toggleable\"><input class=\"sk-toggleable__control sk-hidden--visually\" id=\"d9d241a9-0cc3-4f60-a57c-5eb09c1d97ec\" type=\"checkbox\" ><label for=\"d9d241a9-0cc3-4f60-a57c-5eb09c1d97ec\" class=\"sk-toggleable__label sk-toggleable__label-arrow\">ElasticNet</label><div class=\"sk-toggleable__content\"><pre>ElasticNet(alpha=0.01)</pre></div></div></div></div></div></div></div>"
            ]
          },
          "metadata": {},
          "execution_count": 205
        }
      ]
    },
    {
      "cell_type": "code",
      "source": [
        "ey_pred = elastic_pipe.predict(X_test)"
      ],
      "metadata": {
        "id": "cx-nEWOHar1c"
      },
      "execution_count": 131,
      "outputs": []
    },
    {
      "cell_type": "code",
      "source": [
        "mse(ey_pred  , y_test) "
      ],
      "metadata": {
        "colab": {
          "base_uri": "https://localhost:8080/"
        },
        "id": "HIxWSb2car58",
        "outputId": "4bbeb90d-e481-4b24-dfe1-f55e5ec65782"
      },
      "execution_count": 132,
      "outputs": [
        {
          "output_type": "execute_result",
          "data": {
            "text/plain": [
              "21490825.254052583"
            ]
          },
          "metadata": {},
          "execution_count": 132
        }
      ]
    },
    {
      "cell_type": "code",
      "source": [
        "elastic_pipe = Pipeline([\n",
        "                    ('trf1' , trf1),\n",
        "                    ('trf2' , trf2),\n",
        "                    ('trf3' , trf3),\n",
        "                    ('trf4' , trf4),\n",
        "                    ('trf6',  trf6)\n",
        "])"
      ],
      "metadata": {
        "id": "WbPDdmXNaMDB"
      },
      "execution_count": 171,
      "outputs": []
    },
    {
      "cell_type": "code",
      "source": [
        ""
      ],
      "metadata": {
        "id": "pYggrOKLaMHF"
      },
      "execution_count": null,
      "outputs": []
    },
    {
      "cell_type": "code",
      "source": [
        "params = {\n",
        "    'trf6__alpha':[1 , 0.5 , 0.05 , 0.7],\n",
        "    'trf6__l1_ratio':[0.1 , 0.001 , 0.005 , 0.2 , 0.002]\n",
        "}"
      ],
      "metadata": {
        "id": "X-kcAZS0ar9j"
      },
      "execution_count": 172,
      "outputs": []
    },
    {
      "cell_type": "code",
      "source": [
        "trf6"
      ],
      "metadata": {
        "colab": {
          "base_uri": "https://localhost:8080/",
          "height": 75
        },
        "id": "pNs7O6Rn4gch",
        "outputId": "b1790e7f-b4cf-4ae1-94bb-bb86f101fc0c"
      },
      "execution_count": 206,
      "outputs": [
        {
          "output_type": "execute_result",
          "data": {
            "text/plain": [
              "ElasticNet(alpha=0.01)"
            ],
            "text/html": [
              "<style>#sk-4dfe3ff0-588f-4f50-92de-743498a3aa3d {color: black;background-color: white;}#sk-4dfe3ff0-588f-4f50-92de-743498a3aa3d pre{padding: 0;}#sk-4dfe3ff0-588f-4f50-92de-743498a3aa3d div.sk-toggleable {background-color: white;}#sk-4dfe3ff0-588f-4f50-92de-743498a3aa3d label.sk-toggleable__label {cursor: pointer;display: block;width: 100%;margin-bottom: 0;padding: 0.3em;box-sizing: border-box;text-align: center;}#sk-4dfe3ff0-588f-4f50-92de-743498a3aa3d label.sk-toggleable__label-arrow:before {content: \"▸\";float: left;margin-right: 0.25em;color: #696969;}#sk-4dfe3ff0-588f-4f50-92de-743498a3aa3d label.sk-toggleable__label-arrow:hover:before {color: black;}#sk-4dfe3ff0-588f-4f50-92de-743498a3aa3d div.sk-estimator:hover label.sk-toggleable__label-arrow:before {color: black;}#sk-4dfe3ff0-588f-4f50-92de-743498a3aa3d div.sk-toggleable__content {max-height: 0;max-width: 0;overflow: hidden;text-align: left;background-color: #f0f8ff;}#sk-4dfe3ff0-588f-4f50-92de-743498a3aa3d div.sk-toggleable__content pre {margin: 0.2em;color: black;border-radius: 0.25em;background-color: #f0f8ff;}#sk-4dfe3ff0-588f-4f50-92de-743498a3aa3d input.sk-toggleable__control:checked~div.sk-toggleable__content {max-height: 200px;max-width: 100%;overflow: auto;}#sk-4dfe3ff0-588f-4f50-92de-743498a3aa3d input.sk-toggleable__control:checked~label.sk-toggleable__label-arrow:before {content: \"▾\";}#sk-4dfe3ff0-588f-4f50-92de-743498a3aa3d div.sk-estimator input.sk-toggleable__control:checked~label.sk-toggleable__label {background-color: #d4ebff;}#sk-4dfe3ff0-588f-4f50-92de-743498a3aa3d div.sk-label input.sk-toggleable__control:checked~label.sk-toggleable__label {background-color: #d4ebff;}#sk-4dfe3ff0-588f-4f50-92de-743498a3aa3d input.sk-hidden--visually {border: 0;clip: rect(1px 1px 1px 1px);clip: rect(1px, 1px, 1px, 1px);height: 1px;margin: -1px;overflow: hidden;padding: 0;position: absolute;width: 1px;}#sk-4dfe3ff0-588f-4f50-92de-743498a3aa3d div.sk-estimator {font-family: monospace;background-color: #f0f8ff;border: 1px dotted black;border-radius: 0.25em;box-sizing: border-box;margin-bottom: 0.5em;}#sk-4dfe3ff0-588f-4f50-92de-743498a3aa3d div.sk-estimator:hover {background-color: #d4ebff;}#sk-4dfe3ff0-588f-4f50-92de-743498a3aa3d div.sk-parallel-item::after {content: \"\";width: 100%;border-bottom: 1px solid gray;flex-grow: 1;}#sk-4dfe3ff0-588f-4f50-92de-743498a3aa3d div.sk-label:hover label.sk-toggleable__label {background-color: #d4ebff;}#sk-4dfe3ff0-588f-4f50-92de-743498a3aa3d div.sk-serial::before {content: \"\";position: absolute;border-left: 1px solid gray;box-sizing: border-box;top: 2em;bottom: 0;left: 50%;}#sk-4dfe3ff0-588f-4f50-92de-743498a3aa3d div.sk-serial {display: flex;flex-direction: column;align-items: center;background-color: white;padding-right: 0.2em;padding-left: 0.2em;}#sk-4dfe3ff0-588f-4f50-92de-743498a3aa3d div.sk-item {z-index: 1;}#sk-4dfe3ff0-588f-4f50-92de-743498a3aa3d div.sk-parallel {display: flex;align-items: stretch;justify-content: center;background-color: white;}#sk-4dfe3ff0-588f-4f50-92de-743498a3aa3d div.sk-parallel::before {content: \"\";position: absolute;border-left: 1px solid gray;box-sizing: border-box;top: 2em;bottom: 0;left: 50%;}#sk-4dfe3ff0-588f-4f50-92de-743498a3aa3d div.sk-parallel-item {display: flex;flex-direction: column;position: relative;background-color: white;}#sk-4dfe3ff0-588f-4f50-92de-743498a3aa3d div.sk-parallel-item:first-child::after {align-self: flex-end;width: 50%;}#sk-4dfe3ff0-588f-4f50-92de-743498a3aa3d div.sk-parallel-item:last-child::after {align-self: flex-start;width: 50%;}#sk-4dfe3ff0-588f-4f50-92de-743498a3aa3d div.sk-parallel-item:only-child::after {width: 0;}#sk-4dfe3ff0-588f-4f50-92de-743498a3aa3d div.sk-dashed-wrapped {border: 1px dashed gray;margin: 0 0.4em 0.5em 0.4em;box-sizing: border-box;padding-bottom: 0.4em;background-color: white;position: relative;}#sk-4dfe3ff0-588f-4f50-92de-743498a3aa3d div.sk-label label {font-family: monospace;font-weight: bold;background-color: white;display: inline-block;line-height: 1.2em;}#sk-4dfe3ff0-588f-4f50-92de-743498a3aa3d div.sk-label-container {position: relative;z-index: 2;text-align: center;}#sk-4dfe3ff0-588f-4f50-92de-743498a3aa3d div.sk-container {/* jupyter's `normalize.less` sets `[hidden] { display: none; }` but bootstrap.min.css set `[hidden] { display: none !important; }` so we also need the `!important` here to be able to override the default hidden behavior on the sphinx rendered scikit-learn.org. See: https://github.com/scikit-learn/scikit-learn/issues/21755 */display: inline-block !important;position: relative;}#sk-4dfe3ff0-588f-4f50-92de-743498a3aa3d div.sk-text-repr-fallback {display: none;}</style><div id=\"sk-4dfe3ff0-588f-4f50-92de-743498a3aa3d\" class=\"sk-top-container\"><div class=\"sk-text-repr-fallback\"><pre>ElasticNet(alpha=0.01)</pre><b>Please rerun this cell to show the HTML repr or trust the notebook.</b></div><div class=\"sk-container\" hidden><div class=\"sk-item\"><div class=\"sk-estimator sk-toggleable\"><input class=\"sk-toggleable__control sk-hidden--visually\" id=\"af05f1ef-f0e8-4afa-a598-4244bebcb5a0\" type=\"checkbox\" checked><label for=\"af05f1ef-f0e8-4afa-a598-4244bebcb5a0\" class=\"sk-toggleable__label sk-toggleable__label-arrow\">ElasticNet</label><div class=\"sk-toggleable__content\"><pre>ElasticNet(alpha=0.01)</pre></div></div></div></div></div>"
            ]
          },
          "metadata": {},
          "execution_count": 206
        }
      ]
    },
    {
      "cell_type": "code",
      "source": [
        "grid = GridSearchCV(estimator = elastic_pipe , param_grid = params , scoring = 'r2' , n_jobs = -1 , cv = 10)"
      ],
      "metadata": {
        "id": "TibfW5eyasAt"
      },
      "execution_count": 174,
      "outputs": []
    },
    {
      "cell_type": "code",
      "source": [
        "import warnings\n",
        "warnings.simplefilter(\"ignore\")\n",
        "from sklearn.model_selection import cross_val_score\n",
        "cross_val_score(grid , b , w , cv = 5 , scoring = 'r2').mean()"
      ],
      "metadata": {
        "id": "wBeaasNQ0GbP"
      },
      "execution_count": null,
      "outputs": []
    },
    {
      "cell_type": "code",
      "source": [
        "import warnings\n",
        "warnings.simplefilter(\"ignore\")\n",
        "grid.fit(b , w)"
      ],
      "metadata": {
        "colab": {
          "base_uri": "https://localhost:8080/",
          "height": 521
        },
        "id": "BMzJmiTU0GfQ",
        "outputId": "cafdf356-f97c-4219-a4b3-f070aff48aa3"
      },
      "execution_count": 177,
      "outputs": [
        {
          "output_type": "execute_result",
          "data": {
            "text/plain": [
              "GridSearchCV(cv=10,\n",
              "             estimator=Pipeline(steps=[('trf1',\n",
              "                                        ColumnTransformer(remainder='passthrough',\n",
              "                                                          transformers=[('impute_pc1_pc2',\n",
              "                                                                         SimpleImputer(fill_value=-1,\n",
              "                                                                                       strategy='constant'),\n",
              "                                                                         [7,\n",
              "                                                                          8])])),\n",
              "                                       ('trf2',\n",
              "                                        ColumnTransformer(remainder='passthrough',\n",
              "                                                          transformers=[('ohe_gen_age_cc_stay_',\n",
              "                                                                         OneHotEncoder(drop='first',\n",
              "                                                                                       handle_unknown='ignore',\n",
              "                                                                                       sparse=False),\n",
              "                                                                         [0, 1,\n",
              "                                                                          3,\n",
              "                                                                          4])])),\n",
              "                                       ('trf3',\n",
              "                                        ColumnTransformer(transformers=[('scale',\n",
              "                                                                         StandardScaler(),\n",
              "                                                                         slice(0, 18, None))])),\n",
              "                                       ('trf4',\n",
              "                                        SelectKBest(score_func=<function f_regression at 0x7f506d060170>)),\n",
              "                                       ('trf6', ElasticNet(alpha=0.01))]),\n",
              "             n_jobs=-1,\n",
              "             param_grid={'trf6__alpha': [1, 0.5, 0.05, 0.7],\n",
              "                         'trf6__l1_ratio': [0.1, 0.001, 0.005, 0.2, 0.002]},\n",
              "             scoring='r2')"
            ],
            "text/html": [
              "<style>#sk-ece5303d-1b86-42a8-a756-6f94c6997b37 {color: black;background-color: white;}#sk-ece5303d-1b86-42a8-a756-6f94c6997b37 pre{padding: 0;}#sk-ece5303d-1b86-42a8-a756-6f94c6997b37 div.sk-toggleable {background-color: white;}#sk-ece5303d-1b86-42a8-a756-6f94c6997b37 label.sk-toggleable__label {cursor: pointer;display: block;width: 100%;margin-bottom: 0;padding: 0.3em;box-sizing: border-box;text-align: center;}#sk-ece5303d-1b86-42a8-a756-6f94c6997b37 label.sk-toggleable__label-arrow:before {content: \"▸\";float: left;margin-right: 0.25em;color: #696969;}#sk-ece5303d-1b86-42a8-a756-6f94c6997b37 label.sk-toggleable__label-arrow:hover:before {color: black;}#sk-ece5303d-1b86-42a8-a756-6f94c6997b37 div.sk-estimator:hover label.sk-toggleable__label-arrow:before {color: black;}#sk-ece5303d-1b86-42a8-a756-6f94c6997b37 div.sk-toggleable__content {max-height: 0;max-width: 0;overflow: hidden;text-align: left;background-color: #f0f8ff;}#sk-ece5303d-1b86-42a8-a756-6f94c6997b37 div.sk-toggleable__content pre {margin: 0.2em;color: black;border-radius: 0.25em;background-color: #f0f8ff;}#sk-ece5303d-1b86-42a8-a756-6f94c6997b37 input.sk-toggleable__control:checked~div.sk-toggleable__content {max-height: 200px;max-width: 100%;overflow: auto;}#sk-ece5303d-1b86-42a8-a756-6f94c6997b37 input.sk-toggleable__control:checked~label.sk-toggleable__label-arrow:before {content: \"▾\";}#sk-ece5303d-1b86-42a8-a756-6f94c6997b37 div.sk-estimator input.sk-toggleable__control:checked~label.sk-toggleable__label {background-color: #d4ebff;}#sk-ece5303d-1b86-42a8-a756-6f94c6997b37 div.sk-label input.sk-toggleable__control:checked~label.sk-toggleable__label {background-color: #d4ebff;}#sk-ece5303d-1b86-42a8-a756-6f94c6997b37 input.sk-hidden--visually {border: 0;clip: rect(1px 1px 1px 1px);clip: rect(1px, 1px, 1px, 1px);height: 1px;margin: -1px;overflow: hidden;padding: 0;position: absolute;width: 1px;}#sk-ece5303d-1b86-42a8-a756-6f94c6997b37 div.sk-estimator {font-family: monospace;background-color: #f0f8ff;border: 1px dotted black;border-radius: 0.25em;box-sizing: border-box;margin-bottom: 0.5em;}#sk-ece5303d-1b86-42a8-a756-6f94c6997b37 div.sk-estimator:hover {background-color: #d4ebff;}#sk-ece5303d-1b86-42a8-a756-6f94c6997b37 div.sk-parallel-item::after {content: \"\";width: 100%;border-bottom: 1px solid gray;flex-grow: 1;}#sk-ece5303d-1b86-42a8-a756-6f94c6997b37 div.sk-label:hover label.sk-toggleable__label {background-color: #d4ebff;}#sk-ece5303d-1b86-42a8-a756-6f94c6997b37 div.sk-serial::before {content: \"\";position: absolute;border-left: 1px solid gray;box-sizing: border-box;top: 2em;bottom: 0;left: 50%;}#sk-ece5303d-1b86-42a8-a756-6f94c6997b37 div.sk-serial {display: flex;flex-direction: column;align-items: center;background-color: white;padding-right: 0.2em;padding-left: 0.2em;}#sk-ece5303d-1b86-42a8-a756-6f94c6997b37 div.sk-item {z-index: 1;}#sk-ece5303d-1b86-42a8-a756-6f94c6997b37 div.sk-parallel {display: flex;align-items: stretch;justify-content: center;background-color: white;}#sk-ece5303d-1b86-42a8-a756-6f94c6997b37 div.sk-parallel::before {content: \"\";position: absolute;border-left: 1px solid gray;box-sizing: border-box;top: 2em;bottom: 0;left: 50%;}#sk-ece5303d-1b86-42a8-a756-6f94c6997b37 div.sk-parallel-item {display: flex;flex-direction: column;position: relative;background-color: white;}#sk-ece5303d-1b86-42a8-a756-6f94c6997b37 div.sk-parallel-item:first-child::after {align-self: flex-end;width: 50%;}#sk-ece5303d-1b86-42a8-a756-6f94c6997b37 div.sk-parallel-item:last-child::after {align-self: flex-start;width: 50%;}#sk-ece5303d-1b86-42a8-a756-6f94c6997b37 div.sk-parallel-item:only-child::after {width: 0;}#sk-ece5303d-1b86-42a8-a756-6f94c6997b37 div.sk-dashed-wrapped {border: 1px dashed gray;margin: 0 0.4em 0.5em 0.4em;box-sizing: border-box;padding-bottom: 0.4em;background-color: white;position: relative;}#sk-ece5303d-1b86-42a8-a756-6f94c6997b37 div.sk-label label {font-family: monospace;font-weight: bold;background-color: white;display: inline-block;line-height: 1.2em;}#sk-ece5303d-1b86-42a8-a756-6f94c6997b37 div.sk-label-container {position: relative;z-index: 2;text-align: center;}#sk-ece5303d-1b86-42a8-a756-6f94c6997b37 div.sk-container {/* jupyter's `normalize.less` sets `[hidden] { display: none; }` but bootstrap.min.css set `[hidden] { display: none !important; }` so we also need the `!important` here to be able to override the default hidden behavior on the sphinx rendered scikit-learn.org. See: https://github.com/scikit-learn/scikit-learn/issues/21755 */display: inline-block !important;position: relative;}#sk-ece5303d-1b86-42a8-a756-6f94c6997b37 div.sk-text-repr-fallback {display: none;}</style><div id=\"sk-ece5303d-1b86-42a8-a756-6f94c6997b37\" class=\"sk-top-container\"><div class=\"sk-text-repr-fallback\"><pre>GridSearchCV(cv=10,\n",
              "             estimator=Pipeline(steps=[(&#x27;trf1&#x27;,\n",
              "                                        ColumnTransformer(remainder=&#x27;passthrough&#x27;,\n",
              "                                                          transformers=[(&#x27;impute_pc1_pc2&#x27;,\n",
              "                                                                         SimpleImputer(fill_value=-1,\n",
              "                                                                                       strategy=&#x27;constant&#x27;),\n",
              "                                                                         [7,\n",
              "                                                                          8])])),\n",
              "                                       (&#x27;trf2&#x27;,\n",
              "                                        ColumnTransformer(remainder=&#x27;passthrough&#x27;,\n",
              "                                                          transformers=[(&#x27;ohe_gen_age_cc_stay_&#x27;,\n",
              "                                                                         OneHotEncoder(drop=&#x27;first&#x27;,\n",
              "                                                                                       handle_unknown=&#x27;ignore&#x27;,\n",
              "                                                                                       sparse=False),\n",
              "                                                                         [0, 1,\n",
              "                                                                          3,\n",
              "                                                                          4])])),\n",
              "                                       (&#x27;trf3&#x27;,\n",
              "                                        ColumnTransformer(transformers=[(&#x27;scale&#x27;,\n",
              "                                                                         StandardScaler(),\n",
              "                                                                         slice(0, 18, None))])),\n",
              "                                       (&#x27;trf4&#x27;,\n",
              "                                        SelectKBest(score_func=&lt;function f_regression at 0x7f506d060170&gt;)),\n",
              "                                       (&#x27;trf6&#x27;, ElasticNet(alpha=0.01))]),\n",
              "             n_jobs=-1,\n",
              "             param_grid={&#x27;trf6__alpha&#x27;: [1, 0.5, 0.05, 0.7],\n",
              "                         &#x27;trf6__l1_ratio&#x27;: [0.1, 0.001, 0.005, 0.2, 0.002]},\n",
              "             scoring=&#x27;r2&#x27;)</pre><b>Please rerun this cell to show the HTML repr or trust the notebook.</b></div><div class=\"sk-container\" hidden><div class=\"sk-item sk-dashed-wrapped\"><div class=\"sk-label-container\"><div class=\"sk-label sk-toggleable\"><input class=\"sk-toggleable__control sk-hidden--visually\" id=\"0ae04b62-5da1-4f7e-bbbe-e1de4daa215e\" type=\"checkbox\" ><label for=\"0ae04b62-5da1-4f7e-bbbe-e1de4daa215e\" class=\"sk-toggleable__label sk-toggleable__label-arrow\">GridSearchCV</label><div class=\"sk-toggleable__content\"><pre>GridSearchCV(cv=10,\n",
              "             estimator=Pipeline(steps=[(&#x27;trf1&#x27;,\n",
              "                                        ColumnTransformer(remainder=&#x27;passthrough&#x27;,\n",
              "                                                          transformers=[(&#x27;impute_pc1_pc2&#x27;,\n",
              "                                                                         SimpleImputer(fill_value=-1,\n",
              "                                                                                       strategy=&#x27;constant&#x27;),\n",
              "                                                                         [7,\n",
              "                                                                          8])])),\n",
              "                                       (&#x27;trf2&#x27;,\n",
              "                                        ColumnTransformer(remainder=&#x27;passthrough&#x27;,\n",
              "                                                          transformers=[(&#x27;ohe_gen_age_cc_stay_&#x27;,\n",
              "                                                                         OneHotEncoder(drop=&#x27;first&#x27;,\n",
              "                                                                                       handle_unknown=&#x27;ignore&#x27;,\n",
              "                                                                                       sparse=False),\n",
              "                                                                         [0, 1,\n",
              "                                                                          3,\n",
              "                                                                          4])])),\n",
              "                                       (&#x27;trf3&#x27;,\n",
              "                                        ColumnTransformer(transformers=[(&#x27;scale&#x27;,\n",
              "                                                                         StandardScaler(),\n",
              "                                                                         slice(0, 18, None))])),\n",
              "                                       (&#x27;trf4&#x27;,\n",
              "                                        SelectKBest(score_func=&lt;function f_regression at 0x7f506d060170&gt;)),\n",
              "                                       (&#x27;trf6&#x27;, ElasticNet(alpha=0.01))]),\n",
              "             n_jobs=-1,\n",
              "             param_grid={&#x27;trf6__alpha&#x27;: [1, 0.5, 0.05, 0.7],\n",
              "                         &#x27;trf6__l1_ratio&#x27;: [0.1, 0.001, 0.005, 0.2, 0.002]},\n",
              "             scoring=&#x27;r2&#x27;)</pre></div></div></div><div class=\"sk-parallel\"><div class=\"sk-parallel-item\"><div class=\"sk-item\"><div class=\"sk-serial\"><div class=\"sk-item\"><div class=\"sk-serial\"><div class=\"sk-item sk-dashed-wrapped\"><div class=\"sk-label-container\"><div class=\"sk-label sk-toggleable\"><input class=\"sk-toggleable__control sk-hidden--visually\" id=\"5d94ea03-2250-45cf-9023-9529eef5fc4d\" type=\"checkbox\" ><label for=\"5d94ea03-2250-45cf-9023-9529eef5fc4d\" class=\"sk-toggleable__label sk-toggleable__label-arrow\">trf1: ColumnTransformer</label><div class=\"sk-toggleable__content\"><pre>ColumnTransformer(remainder=&#x27;passthrough&#x27;,\n",
              "                  transformers=[(&#x27;impute_pc1_pc2&#x27;,\n",
              "                                 SimpleImputer(fill_value=-1,\n",
              "                                               strategy=&#x27;constant&#x27;),\n",
              "                                 [7, 8])])</pre></div></div></div><div class=\"sk-parallel\"><div class=\"sk-parallel-item\"><div class=\"sk-item\"><div class=\"sk-label-container\"><div class=\"sk-label sk-toggleable\"><input class=\"sk-toggleable__control sk-hidden--visually\" id=\"98f95c02-5c28-4b5f-b2d7-ecab8e04f6cb\" type=\"checkbox\" ><label for=\"98f95c02-5c28-4b5f-b2d7-ecab8e04f6cb\" class=\"sk-toggleable__label sk-toggleable__label-arrow\">impute_pc1_pc2</label><div class=\"sk-toggleable__content\"><pre>[7, 8]</pre></div></div></div><div class=\"sk-serial\"><div class=\"sk-item\"><div class=\"sk-estimator sk-toggleable\"><input class=\"sk-toggleable__control sk-hidden--visually\" id=\"bf567b13-ca4c-4271-93f9-146efe8a653d\" type=\"checkbox\" ><label for=\"bf567b13-ca4c-4271-93f9-146efe8a653d\" class=\"sk-toggleable__label sk-toggleable__label-arrow\">SimpleImputer</label><div class=\"sk-toggleable__content\"><pre>SimpleImputer(fill_value=-1, strategy=&#x27;constant&#x27;)</pre></div></div></div></div></div></div><div class=\"sk-parallel-item\"><div class=\"sk-item\"><div class=\"sk-label-container\"><div class=\"sk-label sk-toggleable\"><input class=\"sk-toggleable__control sk-hidden--visually\" id=\"eac879c8-30bd-4cc9-998a-182e590a588c\" type=\"checkbox\" ><label for=\"eac879c8-30bd-4cc9-998a-182e590a588c\" class=\"sk-toggleable__label sk-toggleable__label-arrow\">remainder</label><div class=\"sk-toggleable__content\"><pre>[&#x27;Gender&#x27;, &#x27;Age&#x27;, &#x27;Occupation&#x27;, &#x27;City_Category&#x27;, &#x27;Stay_In_Current_City_Years&#x27;, &#x27;Marital_Status&#x27;, &#x27;Product_Category_1&#x27;]</pre></div></div></div><div class=\"sk-serial\"><div class=\"sk-item\"><div class=\"sk-estimator sk-toggleable\"><input class=\"sk-toggleable__control sk-hidden--visually\" id=\"c65f554d-eb7d-4a1b-990c-c47a5a02f718\" type=\"checkbox\" ><label for=\"c65f554d-eb7d-4a1b-990c-c47a5a02f718\" class=\"sk-toggleable__label sk-toggleable__label-arrow\">passthrough</label><div class=\"sk-toggleable__content\"><pre>passthrough</pre></div></div></div></div></div></div></div></div><div class=\"sk-item sk-dashed-wrapped\"><div class=\"sk-label-container\"><div class=\"sk-label sk-toggleable\"><input class=\"sk-toggleable__control sk-hidden--visually\" id=\"5c02e97e-2f01-46f1-bce3-dc74db618048\" type=\"checkbox\" ><label for=\"5c02e97e-2f01-46f1-bce3-dc74db618048\" class=\"sk-toggleable__label sk-toggleable__label-arrow\">trf2: ColumnTransformer</label><div class=\"sk-toggleable__content\"><pre>ColumnTransformer(remainder=&#x27;passthrough&#x27;,\n",
              "                  transformers=[(&#x27;ohe_gen_age_cc_stay_&#x27;,\n",
              "                                 OneHotEncoder(drop=&#x27;first&#x27;,\n",
              "                                               handle_unknown=&#x27;ignore&#x27;,\n",
              "                                               sparse=False),\n",
              "                                 [0, 1, 3, 4])])</pre></div></div></div><div class=\"sk-parallel\"><div class=\"sk-parallel-item\"><div class=\"sk-item\"><div class=\"sk-label-container\"><div class=\"sk-label sk-toggleable\"><input class=\"sk-toggleable__control sk-hidden--visually\" id=\"49a4faf4-c8c7-4c39-8f85-8ed7c91a6020\" type=\"checkbox\" ><label for=\"49a4faf4-c8c7-4c39-8f85-8ed7c91a6020\" class=\"sk-toggleable__label sk-toggleable__label-arrow\">ohe_gen_age_cc_stay_</label><div class=\"sk-toggleable__content\"><pre>[0, 1, 3, 4]</pre></div></div></div><div class=\"sk-serial\"><div class=\"sk-item\"><div class=\"sk-estimator sk-toggleable\"><input class=\"sk-toggleable__control sk-hidden--visually\" id=\"1634c046-780a-4249-a895-1e039159adbc\" type=\"checkbox\" ><label for=\"1634c046-780a-4249-a895-1e039159adbc\" class=\"sk-toggleable__label sk-toggleable__label-arrow\">OneHotEncoder</label><div class=\"sk-toggleable__content\"><pre>OneHotEncoder(drop=&#x27;first&#x27;, handle_unknown=&#x27;ignore&#x27;, sparse=False)</pre></div></div></div></div></div></div><div class=\"sk-parallel-item\"><div class=\"sk-item\"><div class=\"sk-label-container\"><div class=\"sk-label sk-toggleable\"><input class=\"sk-toggleable__control sk-hidden--visually\" id=\"787c238f-fec5-46b3-887a-e4adfefa0c6e\" type=\"checkbox\" ><label for=\"787c238f-fec5-46b3-887a-e4adfefa0c6e\" class=\"sk-toggleable__label sk-toggleable__label-arrow\">remainder</label><div class=\"sk-toggleable__content\"><pre>[2, 5, 6, 7, 8]</pre></div></div></div><div class=\"sk-serial\"><div class=\"sk-item\"><div class=\"sk-estimator sk-toggleable\"><input class=\"sk-toggleable__control sk-hidden--visually\" id=\"e3b0a9fb-62b8-4b91-b9e8-bb7a7032cea9\" type=\"checkbox\" ><label for=\"e3b0a9fb-62b8-4b91-b9e8-bb7a7032cea9\" class=\"sk-toggleable__label sk-toggleable__label-arrow\">passthrough</label><div class=\"sk-toggleable__content\"><pre>passthrough</pre></div></div></div></div></div></div></div></div><div class=\"sk-item sk-dashed-wrapped\"><div class=\"sk-label-container\"><div class=\"sk-label sk-toggleable\"><input class=\"sk-toggleable__control sk-hidden--visually\" id=\"df4187b3-9ce1-4092-9068-63c694a3c04c\" type=\"checkbox\" ><label for=\"df4187b3-9ce1-4092-9068-63c694a3c04c\" class=\"sk-toggleable__label sk-toggleable__label-arrow\">trf3: ColumnTransformer</label><div class=\"sk-toggleable__content\"><pre>ColumnTransformer(transformers=[(&#x27;scale&#x27;, StandardScaler(),\n",
              "                                 slice(0, 18, None))])</pre></div></div></div><div class=\"sk-parallel\"><div class=\"sk-parallel-item\"><div class=\"sk-item\"><div class=\"sk-label-container\"><div class=\"sk-label sk-toggleable\"><input class=\"sk-toggleable__control sk-hidden--visually\" id=\"840bcff5-647a-492b-a7ba-8e0dd8744ac4\" type=\"checkbox\" ><label for=\"840bcff5-647a-492b-a7ba-8e0dd8744ac4\" class=\"sk-toggleable__label sk-toggleable__label-arrow\">scale</label><div class=\"sk-toggleable__content\"><pre>slice(0, 18, None)</pre></div></div></div><div class=\"sk-serial\"><div class=\"sk-item\"><div class=\"sk-estimator sk-toggleable\"><input class=\"sk-toggleable__control sk-hidden--visually\" id=\"e3a4edf3-116e-4228-b13e-93e3d832073c\" type=\"checkbox\" ><label for=\"e3a4edf3-116e-4228-b13e-93e3d832073c\" class=\"sk-toggleable__label sk-toggleable__label-arrow\">StandardScaler</label><div class=\"sk-toggleable__content\"><pre>StandardScaler()</pre></div></div></div></div></div></div></div></div><div class=\"sk-item\"><div class=\"sk-estimator sk-toggleable\"><input class=\"sk-toggleable__control sk-hidden--visually\" id=\"7a2224c3-2065-49f8-a27a-9f9adb82ba98\" type=\"checkbox\" ><label for=\"7a2224c3-2065-49f8-a27a-9f9adb82ba98\" class=\"sk-toggleable__label sk-toggleable__label-arrow\">SelectKBest</label><div class=\"sk-toggleable__content\"><pre>SelectKBest(score_func=&lt;function f_regression at 0x7f506d060170&gt;)</pre></div></div></div><div class=\"sk-item\"><div class=\"sk-estimator sk-toggleable\"><input class=\"sk-toggleable__control sk-hidden--visually\" id=\"09ce49cb-50aa-487b-babc-7d176b49856b\" type=\"checkbox\" ><label for=\"09ce49cb-50aa-487b-babc-7d176b49856b\" class=\"sk-toggleable__label sk-toggleable__label-arrow\">ElasticNet</label><div class=\"sk-toggleable__content\"><pre>ElasticNet(alpha=0.01)</pre></div></div></div></div></div></div></div></div></div></div></div></div>"
            ]
          },
          "metadata": {},
          "execution_count": 177
        }
      ]
    },
    {
      "cell_type": "code",
      "source": [
        "b"
      ],
      "metadata": {
        "colab": {
          "base_uri": "https://localhost:8080/",
          "height": 661
        },
        "id": "toKCWYZ5mtvh",
        "outputId": "2754bbc4-3d90-4d98-ba9b-f21f4b3ff971"
      },
      "execution_count": 186,
      "outputs": [
        {
          "output_type": "execute_result",
          "data": {
            "text/plain": [
              "       Gender    Age  Occupation City_Category Stay_In_Current_City_Years  \\\n",
              "178247      M  51-55           7             B                          3   \n",
              "196647      M  18-25          12             C                         4+   \n",
              "418590      M  26-35           5             B                          1   \n",
              "408727      M  18-25           4             B                          2   \n",
              "216416      M  18-25           4             B                          1   \n",
              "...       ...    ...         ...           ...                        ...   \n",
              "110268      M  46-50          17             C                          2   \n",
              "259178      M  26-35          14             C                          2   \n",
              "365838      F  18-25           1             B                          1   \n",
              "131932      F  18-25           4             B                          2   \n",
              "121958      F  18-25           2             A                          2   \n",
              "\n",
              "        Marital_Status  Product_Category_1  Product_Category_2  \\\n",
              "178247               1                   1                15.0   \n",
              "196647               0                   5                 NaN   \n",
              "418590               0                   8                14.0   \n",
              "408727               0                   8                 NaN   \n",
              "216416               0                   1                 8.0   \n",
              "...                ...                 ...                 ...   \n",
              "110268               0                   5                 NaN   \n",
              "259178               1                   5                 NaN   \n",
              "365838               0                   5                 NaN   \n",
              "131932               0                   8                14.0   \n",
              "121958               1                   5                14.0   \n",
              "\n",
              "        Product_Category_3  \n",
              "178247                 NaN  \n",
              "196647                 NaN  \n",
              "418590                17.0  \n",
              "408727                 NaN  \n",
              "216416                 NaN  \n",
              "...                    ...  \n",
              "110268                 NaN  \n",
              "259178                 NaN  \n",
              "365838                 NaN  \n",
              "131932                 NaN  \n",
              "121958                 NaN  \n",
              "\n",
              "[440054 rows x 9 columns]"
            ],
            "text/html": [
              "\n",
              "  <div id=\"df-3a759bec-1761-481c-9d2a-ba2a7bbfae64\">\n",
              "    <div class=\"colab-df-container\">\n",
              "      <div>\n",
              "<style scoped>\n",
              "    .dataframe tbody tr th:only-of-type {\n",
              "        vertical-align: middle;\n",
              "    }\n",
              "\n",
              "    .dataframe tbody tr th {\n",
              "        vertical-align: top;\n",
              "    }\n",
              "\n",
              "    .dataframe thead th {\n",
              "        text-align: right;\n",
              "    }\n",
              "</style>\n",
              "<table border=\"1\" class=\"dataframe\">\n",
              "  <thead>\n",
              "    <tr style=\"text-align: right;\">\n",
              "      <th></th>\n",
              "      <th>Gender</th>\n",
              "      <th>Age</th>\n",
              "      <th>Occupation</th>\n",
              "      <th>City_Category</th>\n",
              "      <th>Stay_In_Current_City_Years</th>\n",
              "      <th>Marital_Status</th>\n",
              "      <th>Product_Category_1</th>\n",
              "      <th>Product_Category_2</th>\n",
              "      <th>Product_Category_3</th>\n",
              "    </tr>\n",
              "  </thead>\n",
              "  <tbody>\n",
              "    <tr>\n",
              "      <th>178247</th>\n",
              "      <td>M</td>\n",
              "      <td>51-55</td>\n",
              "      <td>7</td>\n",
              "      <td>B</td>\n",
              "      <td>3</td>\n",
              "      <td>1</td>\n",
              "      <td>1</td>\n",
              "      <td>15.0</td>\n",
              "      <td>NaN</td>\n",
              "    </tr>\n",
              "    <tr>\n",
              "      <th>196647</th>\n",
              "      <td>M</td>\n",
              "      <td>18-25</td>\n",
              "      <td>12</td>\n",
              "      <td>C</td>\n",
              "      <td>4+</td>\n",
              "      <td>0</td>\n",
              "      <td>5</td>\n",
              "      <td>NaN</td>\n",
              "      <td>NaN</td>\n",
              "    </tr>\n",
              "    <tr>\n",
              "      <th>418590</th>\n",
              "      <td>M</td>\n",
              "      <td>26-35</td>\n",
              "      <td>5</td>\n",
              "      <td>B</td>\n",
              "      <td>1</td>\n",
              "      <td>0</td>\n",
              "      <td>8</td>\n",
              "      <td>14.0</td>\n",
              "      <td>17.0</td>\n",
              "    </tr>\n",
              "    <tr>\n",
              "      <th>408727</th>\n",
              "      <td>M</td>\n",
              "      <td>18-25</td>\n",
              "      <td>4</td>\n",
              "      <td>B</td>\n",
              "      <td>2</td>\n",
              "      <td>0</td>\n",
              "      <td>8</td>\n",
              "      <td>NaN</td>\n",
              "      <td>NaN</td>\n",
              "    </tr>\n",
              "    <tr>\n",
              "      <th>216416</th>\n",
              "      <td>M</td>\n",
              "      <td>18-25</td>\n",
              "      <td>4</td>\n",
              "      <td>B</td>\n",
              "      <td>1</td>\n",
              "      <td>0</td>\n",
              "      <td>1</td>\n",
              "      <td>8.0</td>\n",
              "      <td>NaN</td>\n",
              "    </tr>\n",
              "    <tr>\n",
              "      <th>...</th>\n",
              "      <td>...</td>\n",
              "      <td>...</td>\n",
              "      <td>...</td>\n",
              "      <td>...</td>\n",
              "      <td>...</td>\n",
              "      <td>...</td>\n",
              "      <td>...</td>\n",
              "      <td>...</td>\n",
              "      <td>...</td>\n",
              "    </tr>\n",
              "    <tr>\n",
              "      <th>110268</th>\n",
              "      <td>M</td>\n",
              "      <td>46-50</td>\n",
              "      <td>17</td>\n",
              "      <td>C</td>\n",
              "      <td>2</td>\n",
              "      <td>0</td>\n",
              "      <td>5</td>\n",
              "      <td>NaN</td>\n",
              "      <td>NaN</td>\n",
              "    </tr>\n",
              "    <tr>\n",
              "      <th>259178</th>\n",
              "      <td>M</td>\n",
              "      <td>26-35</td>\n",
              "      <td>14</td>\n",
              "      <td>C</td>\n",
              "      <td>2</td>\n",
              "      <td>1</td>\n",
              "      <td>5</td>\n",
              "      <td>NaN</td>\n",
              "      <td>NaN</td>\n",
              "    </tr>\n",
              "    <tr>\n",
              "      <th>365838</th>\n",
              "      <td>F</td>\n",
              "      <td>18-25</td>\n",
              "      <td>1</td>\n",
              "      <td>B</td>\n",
              "      <td>1</td>\n",
              "      <td>0</td>\n",
              "      <td>5</td>\n",
              "      <td>NaN</td>\n",
              "      <td>NaN</td>\n",
              "    </tr>\n",
              "    <tr>\n",
              "      <th>131932</th>\n",
              "      <td>F</td>\n",
              "      <td>18-25</td>\n",
              "      <td>4</td>\n",
              "      <td>B</td>\n",
              "      <td>2</td>\n",
              "      <td>0</td>\n",
              "      <td>8</td>\n",
              "      <td>14.0</td>\n",
              "      <td>NaN</td>\n",
              "    </tr>\n",
              "    <tr>\n",
              "      <th>121958</th>\n",
              "      <td>F</td>\n",
              "      <td>18-25</td>\n",
              "      <td>2</td>\n",
              "      <td>A</td>\n",
              "      <td>2</td>\n",
              "      <td>1</td>\n",
              "      <td>5</td>\n",
              "      <td>14.0</td>\n",
              "      <td>NaN</td>\n",
              "    </tr>\n",
              "  </tbody>\n",
              "</table>\n",
              "<p>440054 rows × 9 columns</p>\n",
              "</div>\n",
              "      <button class=\"colab-df-convert\" onclick=\"convertToInteractive('df-3a759bec-1761-481c-9d2a-ba2a7bbfae64')\"\n",
              "              title=\"Convert this dataframe to an interactive table.\"\n",
              "              style=\"display:none;\">\n",
              "        \n",
              "  <svg xmlns=\"http://www.w3.org/2000/svg\" height=\"24px\"viewBox=\"0 0 24 24\"\n",
              "       width=\"24px\">\n",
              "    <path d=\"M0 0h24v24H0V0z\" fill=\"none\"/>\n",
              "    <path d=\"M18.56 5.44l.94 2.06.94-2.06 2.06-.94-2.06-.94-.94-2.06-.94 2.06-2.06.94zm-11 1L8.5 8.5l.94-2.06 2.06-.94-2.06-.94L8.5 2.5l-.94 2.06-2.06.94zm10 10l.94 2.06.94-2.06 2.06-.94-2.06-.94-.94-2.06-.94 2.06-2.06.94z\"/><path d=\"M17.41 7.96l-1.37-1.37c-.4-.4-.92-.59-1.43-.59-.52 0-1.04.2-1.43.59L10.3 9.45l-7.72 7.72c-.78.78-.78 2.05 0 2.83L4 21.41c.39.39.9.59 1.41.59.51 0 1.02-.2 1.41-.59l7.78-7.78 2.81-2.81c.8-.78.8-2.07 0-2.86zM5.41 20L4 18.59l7.72-7.72 1.47 1.35L5.41 20z\"/>\n",
              "  </svg>\n",
              "      </button>\n",
              "      \n",
              "  <style>\n",
              "    .colab-df-container {\n",
              "      display:flex;\n",
              "      flex-wrap:wrap;\n",
              "      gap: 12px;\n",
              "    }\n",
              "\n",
              "    .colab-df-convert {\n",
              "      background-color: #E8F0FE;\n",
              "      border: none;\n",
              "      border-radius: 50%;\n",
              "      cursor: pointer;\n",
              "      display: none;\n",
              "      fill: #1967D2;\n",
              "      height: 32px;\n",
              "      padding: 0 0 0 0;\n",
              "      width: 32px;\n",
              "    }\n",
              "\n",
              "    .colab-df-convert:hover {\n",
              "      background-color: #E2EBFA;\n",
              "      box-shadow: 0px 1px 2px rgba(60, 64, 67, 0.3), 0px 1px 3px 1px rgba(60, 64, 67, 0.15);\n",
              "      fill: #174EA6;\n",
              "    }\n",
              "\n",
              "    [theme=dark] .colab-df-convert {\n",
              "      background-color: #3B4455;\n",
              "      fill: #D2E3FC;\n",
              "    }\n",
              "\n",
              "    [theme=dark] .colab-df-convert:hover {\n",
              "      background-color: #434B5C;\n",
              "      box-shadow: 0px 1px 3px 1px rgba(0, 0, 0, 0.15);\n",
              "      filter: drop-shadow(0px 1px 2px rgba(0, 0, 0, 0.3));\n",
              "      fill: #FFFFFF;\n",
              "    }\n",
              "  </style>\n",
              "\n",
              "      <script>\n",
              "        const buttonEl =\n",
              "          document.querySelector('#df-3a759bec-1761-481c-9d2a-ba2a7bbfae64 button.colab-df-convert');\n",
              "        buttonEl.style.display =\n",
              "          google.colab.kernel.accessAllowed ? 'block' : 'none';\n",
              "\n",
              "        async function convertToInteractive(key) {\n",
              "          const element = document.querySelector('#df-3a759bec-1761-481c-9d2a-ba2a7bbfae64');\n",
              "          const dataTable =\n",
              "            await google.colab.kernel.invokeFunction('convertToInteractive',\n",
              "                                                     [key], {});\n",
              "          if (!dataTable) return;\n",
              "\n",
              "          const docLinkHtml = 'Like what you see? Visit the ' +\n",
              "            '<a target=\"_blank\" href=https://colab.research.google.com/notebooks/data_table.ipynb>data table notebook</a>'\n",
              "            + ' to learn more about interactive tables.';\n",
              "          element.innerHTML = '';\n",
              "          dataTable['output_type'] = 'display_data';\n",
              "          await google.colab.output.renderOutput(dataTable, element);\n",
              "          const docLink = document.createElement('div');\n",
              "          docLink.innerHTML = docLinkHtml;\n",
              "          element.appendChild(docLink);\n",
              "        }\n",
              "      </script>\n",
              "    </div>\n",
              "  </div>\n",
              "  "
            ]
          },
          "metadata": {},
          "execution_count": 186
        }
      ]
    },
    {
      "cell_type": "code",
      "source": [
        "r2_score(y_test , grid.predict(X_test))"
      ],
      "metadata": {
        "colab": {
          "base_uri": "https://localhost:8080/"
        },
        "id": "zzm6TFcdhXOs",
        "outputId": "302b3618-628d-4292-a57f-c0f00852c140"
      },
      "execution_count": 178,
      "outputs": [
        {
          "output_type": "execute_result",
          "data": {
            "text/plain": [
              "0.14430025509804434"
            ]
          },
          "metadata": {},
          "execution_count": 178
        }
      ]
    },
    {
      "cell_type": "code",
      "source": [
        "b.info()"
      ],
      "metadata": {
        "colab": {
          "base_uri": "https://localhost:8080/"
        },
        "id": "0UwgZ4JOnOas",
        "outputId": "539e1576-529c-4196-e841-86f9877240c2"
      },
      "execution_count": 192,
      "outputs": [
        {
          "output_type": "stream",
          "name": "stdout",
          "text": [
            "<class 'pandas.core.frame.DataFrame'>\n",
            "Int64Index: 440054 entries, 178247 to 121958\n",
            "Data columns (total 9 columns):\n",
            " #   Column                      Non-Null Count   Dtype  \n",
            "---  ------                      --------------   -----  \n",
            " 0   Gender                      440054 non-null  object \n",
            " 1   Age                         440054 non-null  object \n",
            " 2   Occupation                  440054 non-null  int64  \n",
            " 3   City_Category               440054 non-null  object \n",
            " 4   Stay_In_Current_City_Years  440054 non-null  object \n",
            " 5   Marital_Status              440054 non-null  int64  \n",
            " 6   Product_Category_1          440054 non-null  int64  \n",
            " 7   Product_Category_2          301010 non-null  float64\n",
            " 8   Product_Category_3          133226 non-null  float64\n",
            "dtypes: float64(2), int64(3), object(4)\n",
            "memory usage: 33.6+ MB\n"
          ]
        }
      ]
    },
    {
      "cell_type": "code",
      "source": [
        "a = np.array(['F' , '18-25' , 2 , 'A' , '2' , 500 , 500.0 , 9.0 , 13.0],dtype=object).reshape(1,9)"
      ],
      "metadata": {
        "id": "wrCKkJ_nhXSh"
      },
      "execution_count": 20,
      "outputs": []
    },
    {
      "cell_type": "code",
      "source": [
        "elastic_pipe.fit(b,w)"
      ],
      "metadata": {
        "colab": {
          "base_uri": "https://localhost:8080/"
        },
        "id": "_cWy76hgTr92",
        "outputId": "739d9ef2-45df-4a66-d2c4-7d3f0b6a0c7c"
      },
      "execution_count": 22,
      "outputs": [
        {
          "output_type": "execute_result",
          "data": {
            "text/plain": [
              "Pipeline(steps=[('columntransformer-1',\n",
              "                 ColumnTransformer(remainder='passthrough',\n",
              "                                   transformers=[('impute_pc1_pc2',\n",
              "                                                  SimpleImputer(fill_value=-1,\n",
              "                                                                strategy='constant'),\n",
              "                                                  [7, 8])])),\n",
              "                ('columntransformer-2',\n",
              "                 ColumnTransformer(remainder='passthrough',\n",
              "                                   transformers=[('ohe_gen_age_cc_stay_',\n",
              "                                                  OneHotEncoder(drop='first',\n",
              "                                                                handle_unknown='ignore',\n",
              "                                                                sparse=False),\n",
              "                                                  [0, 1, 3, 4])])),\n",
              "                ('columntransformer-3',\n",
              "                 ColumnTransformer(transformers=[('scale', StandardScaler(),\n",
              "                                                  slice(0, 18, None))])),\n",
              "                ('selectkbest',\n",
              "                 SelectKBest(score_func=<function f_regression at 0x7fa15ebbde60>)),\n",
              "                ('elasticnet', ElasticNet(alpha=0.01))])"
            ]
          },
          "metadata": {},
          "execution_count": 22
        }
      ]
    },
    {
      "cell_type": "code",
      "source": [
        "elastic_pipe.predict(X_test)"
      ],
      "metadata": {
        "colab": {
          "base_uri": "https://localhost:8080/"
        },
        "id": "NA2GshGRikzG",
        "outputId": "488f2c61-3301-432f-8994-5377e53fb07b"
      },
      "execution_count": 24,
      "outputs": [
        {
          "output_type": "execute_result",
          "data": {
            "text/plain": [
              "array([13593.51503352, 10342.39764163, 10342.39764163, ...,\n",
              "        8039.22876622,  8039.22876622, 10216.71168216])"
            ]
          },
          "metadata": {},
          "execution_count": 24
        }
      ]
    },
    {
      "cell_type": "code",
      "source": [
        ""
      ],
      "metadata": {
        "id": "o9rBxgGwTqz-"
      },
      "execution_count": null,
      "outputs": []
    },
    {
      "cell_type": "code",
      "source": [
        "trf6.get_params().keys()"
      ],
      "metadata": {
        "colab": {
          "base_uri": "https://localhost:8080/"
        },
        "id": "FsyerUE-0Gji",
        "outputId": "b346d666-2761-4c5e-9485-b12511ed2261"
      },
      "execution_count": 118,
      "outputs": [
        {
          "output_type": "execute_result",
          "data": {
            "text/plain": [
              "dict_keys(['alpha', 'copy_X', 'fit_intercept', 'l1_ratio', 'max_iter', 'normalize', 'positive', 'precompute', 'random_state', 'selection', 'tol', 'warm_start'])"
            ]
          },
          "metadata": {},
          "execution_count": 118
        }
      ]
    },
    {
      "cell_type": "code",
      "source": [
        "from sklearn.ensemble import RandomForestRegressor\n",
        "\n",
        "trf7 = RandomForestRegressor()"
      ],
      "metadata": {
        "id": "7iCR_M1I7-VI"
      },
      "execution_count": 25,
      "outputs": []
    },
    {
      "cell_type": "code",
      "source": [
        "rf_pipe = make_pipeline(trf1,trf2,trf3,trf4,trf7)"
      ],
      "metadata": {
        "id": "Fwa89pfY7-Yg"
      },
      "execution_count": 26,
      "outputs": []
    },
    {
      "cell_type": "code",
      "source": [
        "rf_pipe = Pipeline([\n",
        "                    ('trf1' , trf1),\n",
        "                    ('trf2' , trf2),\n",
        "                    ('trf3' , trf3),\n",
        "                    ('trf4' , trf4),\n",
        "                    ('trf7',  trf7)\n",
        "])"
      ],
      "metadata": {
        "id": "fPT0uLPaIwvc"
      },
      "execution_count": 27,
      "outputs": []
    },
    {
      "cell_type": "code",
      "source": [
        "rf_pipe.fit(b,w)"
      ],
      "metadata": {
        "colab": {
          "base_uri": "https://localhost:8080/"
        },
        "id": "hcqUDq5zHN2r",
        "outputId": "bb5e97c6-8066-4238-f013-008a96fe044b"
      },
      "execution_count": 28,
      "outputs": [
        {
          "output_type": "execute_result",
          "data": {
            "text/plain": [
              "Pipeline(steps=[('trf1',\n",
              "                 ColumnTransformer(remainder='passthrough',\n",
              "                                   transformers=[('impute_pc1_pc2',\n",
              "                                                  SimpleImputer(fill_value=-1,\n",
              "                                                                strategy='constant'),\n",
              "                                                  [7, 8])])),\n",
              "                ('trf2',\n",
              "                 ColumnTransformer(remainder='passthrough',\n",
              "                                   transformers=[('ohe_gen_age_cc_stay_',\n",
              "                                                  OneHotEncoder(drop='first',\n",
              "                                                                handle_unknown='ignore',\n",
              "                                                                sparse=False),\n",
              "                                                  [0, 1, 3, 4])])),\n",
              "                ('trf3',\n",
              "                 ColumnTransformer(transformers=[('scale', StandardScaler(),\n",
              "                                                  slice(0, 18, None))])),\n",
              "                ('trf4',\n",
              "                 SelectKBest(score_func=<function f_regression at 0x7fa15ebbde60>)),\n",
              "                ('trf7', RandomForestRegressor())])"
            ]
          },
          "metadata": {},
          "execution_count": 28
        }
      ]
    },
    {
      "cell_type": "code",
      "source": [
        "rf_pipe.predict(a)"
      ],
      "metadata": {
        "colab": {
          "base_uri": "https://localhost:8080/"
        },
        "id": "uwWhfj86WF0r",
        "outputId": "99cb69cc-aed9-4182-e304-30d7950f7c78"
      },
      "execution_count": 29,
      "outputs": [
        {
          "output_type": "stream",
          "name": "stderr",
          "text": [
            "/usr/local/lib/python3.7/dist-packages/sklearn/base.py:451: UserWarning: X does not have valid feature names, but SimpleImputer was fitted with feature names\n",
            "  \"X does not have valid feature names, but\"\n"
          ]
        },
        {
          "output_type": "execute_result",
          "data": {
            "text/plain": [
              "array([7319.11274621])"
            ]
          },
          "metadata": {},
          "execution_count": 29
        }
      ]
    },
    {
      "cell_type": "code",
      "source": [
        "rf_pipe.predict(X_test)"
      ],
      "metadata": {
        "colab": {
          "base_uri": "https://localhost:8080/"
        },
        "id": "tkMazUyXWGFU",
        "outputId": "d2de62e5-d170-4fdb-d352-89e6f8da89fb"
      },
      "execution_count": 30,
      "outputs": [
        {
          "output_type": "execute_result",
          "data": {
            "text/plain": [
              "array([13617.47456247, 10351.71498174, 10351.71498174, ...,\n",
              "        8026.24866664,  8026.24866664, 10227.92915761])"
            ]
          },
          "metadata": {},
          "execution_count": 30
        }
      ]
    },
    {
      "cell_type": "code",
      "source": [
        "import warnings\n",
        "warnings.simplefilter(\"ignore\")\n",
        "from sklearn.model_selection import cross_val_score\n",
        "cross_val_score(rf_pipe , b , w , cv = 5 , scoring = 'r2').mean()"
      ],
      "metadata": {
        "colab": {
          "base_uri": "https://localhost:8080/"
        },
        "id": "OOI2jc1O7-cB",
        "outputId": "442297eb-b3ca-425a-9cdf-b30975ac0494"
      },
      "execution_count": 144,
      "outputs": [
        {
          "output_type": "execute_result",
          "data": {
            "text/plain": [
              "0.1442458262078862"
            ]
          },
          "metadata": {},
          "execution_count": 144
        }
      ]
    },
    {
      "cell_type": "code",
      "source": [
        "parms = {'trf7__bootstrap': [True, False],\n",
        " 'trf7__max_depth': [10],\n",
        " 'trf7__max_features': ['auto', 'sqrt'],\n",
        " 'trf7__min_samples_leaf': [1, 2,3],\n",
        " 'trf7__min_samples_split': [2, 5,],\n",
        " 'trf7__n_estimators': [10,20]}"
      ],
      "metadata": {
        "id": "SHiyWjma7-gC"
      },
      "execution_count": 168,
      "outputs": []
    },
    {
      "cell_type": "code",
      "source": [
        "rfgrid = GridSearchCV(estimator = rf_pipe , param_grid = parms ,\n",
        "                      scoring = 'r2' , n_jobs = -1 , cv = 10)\n"
      ],
      "metadata": {
        "id": "YFIkW8Ds7-mF"
      },
      "execution_count": 169,
      "outputs": []
    },
    {
      "cell_type": "code",
      "source": [
        "rfgrid.fit(X_train , y_train)"
      ],
      "metadata": {
        "colab": {
          "base_uri": "https://localhost:8080/",
          "height": 311
        },
        "id": "cRimKWlfF9Fs",
        "outputId": "8e3618bf-ec85-46c0-ad06-558e4d1f442c"
      },
      "execution_count": 170,
      "outputs": [
        {
          "output_type": "error",
          "ename": "KeyboardInterrupt",
          "evalue": "ignored",
          "traceback": [
            "\u001b[0;31m---------------------------------------------------------------------------\u001b[0m",
            "\u001b[0;31mKeyboardInterrupt\u001b[0m                         Traceback (most recent call last)",
            "\u001b[0;32m<ipython-input-170-e90eb2154a68>\u001b[0m in \u001b[0;36m<module>\u001b[0;34m()\u001b[0m\n\u001b[0;32m----> 1\u001b[0;31m \u001b[0mrfgrid\u001b[0m\u001b[0;34m.\u001b[0m\u001b[0mfit\u001b[0m\u001b[0;34m(\u001b[0m\u001b[0mX_train\u001b[0m \u001b[0;34m,\u001b[0m \u001b[0my_train\u001b[0m\u001b[0;34m)\u001b[0m\u001b[0;34m\u001b[0m\u001b[0;34m\u001b[0m\u001b[0m\n\u001b[0m",
            "\u001b[0;32m/usr/local/lib/python3.7/dist-packages/sklearn/model_selection/_search.py\u001b[0m in \u001b[0;36mfit\u001b[0;34m(self, X, y, groups, **fit_params)\u001b[0m\n\u001b[1;32m    889\u001b[0m                 \u001b[0;32mreturn\u001b[0m \u001b[0mresults\u001b[0m\u001b[0;34m\u001b[0m\u001b[0;34m\u001b[0m\u001b[0m\n\u001b[1;32m    890\u001b[0m \u001b[0;34m\u001b[0m\u001b[0m\n\u001b[0;32m--> 891\u001b[0;31m             \u001b[0mself\u001b[0m\u001b[0;34m.\u001b[0m\u001b[0m_run_search\u001b[0m\u001b[0;34m(\u001b[0m\u001b[0mevaluate_candidates\u001b[0m\u001b[0;34m)\u001b[0m\u001b[0;34m\u001b[0m\u001b[0;34m\u001b[0m\u001b[0m\n\u001b[0m\u001b[1;32m    892\u001b[0m \u001b[0;34m\u001b[0m\u001b[0m\n\u001b[1;32m    893\u001b[0m             \u001b[0;31m# multimetric is determined here because in the case of a callable\u001b[0m\u001b[0;34m\u001b[0m\u001b[0;34m\u001b[0m\u001b[0;34m\u001b[0m\u001b[0m\n",
            "\u001b[0;32m/usr/local/lib/python3.7/dist-packages/sklearn/model_selection/_search.py\u001b[0m in \u001b[0;36m_run_search\u001b[0;34m(self, evaluate_candidates)\u001b[0m\n\u001b[1;32m   1390\u001b[0m     \u001b[0;32mdef\u001b[0m \u001b[0m_run_search\u001b[0m\u001b[0;34m(\u001b[0m\u001b[0mself\u001b[0m\u001b[0;34m,\u001b[0m \u001b[0mevaluate_candidates\u001b[0m\u001b[0;34m)\u001b[0m\u001b[0;34m:\u001b[0m\u001b[0;34m\u001b[0m\u001b[0;34m\u001b[0m\u001b[0m\n\u001b[1;32m   1391\u001b[0m         \u001b[0;34m\"\"\"Search all candidates in param_grid\"\"\"\u001b[0m\u001b[0;34m\u001b[0m\u001b[0;34m\u001b[0m\u001b[0m\n\u001b[0;32m-> 1392\u001b[0;31m         \u001b[0mevaluate_candidates\u001b[0m\u001b[0;34m(\u001b[0m\u001b[0mParameterGrid\u001b[0m\u001b[0;34m(\u001b[0m\u001b[0mself\u001b[0m\u001b[0;34m.\u001b[0m\u001b[0mparam_grid\u001b[0m\u001b[0;34m)\u001b[0m\u001b[0;34m)\u001b[0m\u001b[0;34m\u001b[0m\u001b[0;34m\u001b[0m\u001b[0m\n\u001b[0m\u001b[1;32m   1393\u001b[0m \u001b[0;34m\u001b[0m\u001b[0m\n\u001b[1;32m   1394\u001b[0m \u001b[0;34m\u001b[0m\u001b[0m\n",
            "\u001b[0;32m/usr/local/lib/python3.7/dist-packages/sklearn/model_selection/_search.py\u001b[0m in \u001b[0;36mevaluate_candidates\u001b[0;34m(candidate_params, cv, more_results)\u001b[0m\n\u001b[1;32m    849\u001b[0m                     )\n\u001b[1;32m    850\u001b[0m                     for (cand_idx, parameters), (split_idx, (train, test)) in product(\n\u001b[0;32m--> 851\u001b[0;31m                         \u001b[0menumerate\u001b[0m\u001b[0;34m(\u001b[0m\u001b[0mcandidate_params\u001b[0m\u001b[0;34m)\u001b[0m\u001b[0;34m,\u001b[0m \u001b[0menumerate\u001b[0m\u001b[0;34m(\u001b[0m\u001b[0mcv\u001b[0m\u001b[0;34m.\u001b[0m\u001b[0msplit\u001b[0m\u001b[0;34m(\u001b[0m\u001b[0mX\u001b[0m\u001b[0;34m,\u001b[0m \u001b[0my\u001b[0m\u001b[0;34m,\u001b[0m \u001b[0mgroups\u001b[0m\u001b[0;34m)\u001b[0m\u001b[0;34m)\u001b[0m\u001b[0;34m\u001b[0m\u001b[0;34m\u001b[0m\u001b[0m\n\u001b[0m\u001b[1;32m    852\u001b[0m                     )\n\u001b[1;32m    853\u001b[0m                 )\n",
            "\u001b[0;32m/usr/local/lib/python3.7/dist-packages/joblib/parallel.py\u001b[0m in \u001b[0;36m__call__\u001b[0;34m(self, iterable)\u001b[0m\n\u001b[1;32m   1054\u001b[0m \u001b[0;34m\u001b[0m\u001b[0m\n\u001b[1;32m   1055\u001b[0m             \u001b[0;32mwith\u001b[0m \u001b[0mself\u001b[0m\u001b[0;34m.\u001b[0m\u001b[0m_backend\u001b[0m\u001b[0;34m.\u001b[0m\u001b[0mretrieval_context\u001b[0m\u001b[0;34m(\u001b[0m\u001b[0;34m)\u001b[0m\u001b[0;34m:\u001b[0m\u001b[0;34m\u001b[0m\u001b[0;34m\u001b[0m\u001b[0m\n\u001b[0;32m-> 1056\u001b[0;31m                 \u001b[0mself\u001b[0m\u001b[0;34m.\u001b[0m\u001b[0mretrieve\u001b[0m\u001b[0;34m(\u001b[0m\u001b[0;34m)\u001b[0m\u001b[0;34m\u001b[0m\u001b[0;34m\u001b[0m\u001b[0m\n\u001b[0m\u001b[1;32m   1057\u001b[0m             \u001b[0;31m# Make sure that we get a last message telling us we are done\u001b[0m\u001b[0;34m\u001b[0m\u001b[0;34m\u001b[0m\u001b[0;34m\u001b[0m\u001b[0m\n\u001b[1;32m   1058\u001b[0m             \u001b[0melapsed_time\u001b[0m \u001b[0;34m=\u001b[0m \u001b[0mtime\u001b[0m\u001b[0;34m.\u001b[0m\u001b[0mtime\u001b[0m\u001b[0;34m(\u001b[0m\u001b[0;34m)\u001b[0m \u001b[0;34m-\u001b[0m \u001b[0mself\u001b[0m\u001b[0;34m.\u001b[0m\u001b[0m_start_time\u001b[0m\u001b[0;34m\u001b[0m\u001b[0;34m\u001b[0m\u001b[0m\n",
            "\u001b[0;32m/usr/local/lib/python3.7/dist-packages/joblib/parallel.py\u001b[0m in \u001b[0;36mretrieve\u001b[0;34m(self)\u001b[0m\n\u001b[1;32m    933\u001b[0m             \u001b[0;32mtry\u001b[0m\u001b[0;34m:\u001b[0m\u001b[0;34m\u001b[0m\u001b[0;34m\u001b[0m\u001b[0m\n\u001b[1;32m    934\u001b[0m                 \u001b[0;32mif\u001b[0m \u001b[0mgetattr\u001b[0m\u001b[0;34m(\u001b[0m\u001b[0mself\u001b[0m\u001b[0;34m.\u001b[0m\u001b[0m_backend\u001b[0m\u001b[0;34m,\u001b[0m \u001b[0;34m'supports_timeout'\u001b[0m\u001b[0;34m,\u001b[0m \u001b[0;32mFalse\u001b[0m\u001b[0;34m)\u001b[0m\u001b[0;34m:\u001b[0m\u001b[0;34m\u001b[0m\u001b[0;34m\u001b[0m\u001b[0m\n\u001b[0;32m--> 935\u001b[0;31m                     \u001b[0mself\u001b[0m\u001b[0;34m.\u001b[0m\u001b[0m_output\u001b[0m\u001b[0;34m.\u001b[0m\u001b[0mextend\u001b[0m\u001b[0;34m(\u001b[0m\u001b[0mjob\u001b[0m\u001b[0;34m.\u001b[0m\u001b[0mget\u001b[0m\u001b[0;34m(\u001b[0m\u001b[0mtimeout\u001b[0m\u001b[0;34m=\u001b[0m\u001b[0mself\u001b[0m\u001b[0;34m.\u001b[0m\u001b[0mtimeout\u001b[0m\u001b[0;34m)\u001b[0m\u001b[0;34m)\u001b[0m\u001b[0;34m\u001b[0m\u001b[0;34m\u001b[0m\u001b[0m\n\u001b[0m\u001b[1;32m    936\u001b[0m                 \u001b[0;32melse\u001b[0m\u001b[0;34m:\u001b[0m\u001b[0;34m\u001b[0m\u001b[0;34m\u001b[0m\u001b[0m\n\u001b[1;32m    937\u001b[0m                     \u001b[0mself\u001b[0m\u001b[0;34m.\u001b[0m\u001b[0m_output\u001b[0m\u001b[0;34m.\u001b[0m\u001b[0mextend\u001b[0m\u001b[0;34m(\u001b[0m\u001b[0mjob\u001b[0m\u001b[0;34m.\u001b[0m\u001b[0mget\u001b[0m\u001b[0;34m(\u001b[0m\u001b[0;34m)\u001b[0m\u001b[0;34m)\u001b[0m\u001b[0;34m\u001b[0m\u001b[0;34m\u001b[0m\u001b[0m\n",
            "\u001b[0;32m/usr/local/lib/python3.7/dist-packages/joblib/_parallel_backends.py\u001b[0m in \u001b[0;36mwrap_future_result\u001b[0;34m(future, timeout)\u001b[0m\n\u001b[1;32m    540\u001b[0m         AsyncResults.get from multiprocessing.\"\"\"\n\u001b[1;32m    541\u001b[0m         \u001b[0;32mtry\u001b[0m\u001b[0;34m:\u001b[0m\u001b[0;34m\u001b[0m\u001b[0;34m\u001b[0m\u001b[0m\n\u001b[0;32m--> 542\u001b[0;31m             \u001b[0;32mreturn\u001b[0m \u001b[0mfuture\u001b[0m\u001b[0;34m.\u001b[0m\u001b[0mresult\u001b[0m\u001b[0;34m(\u001b[0m\u001b[0mtimeout\u001b[0m\u001b[0;34m=\u001b[0m\u001b[0mtimeout\u001b[0m\u001b[0;34m)\u001b[0m\u001b[0;34m\u001b[0m\u001b[0;34m\u001b[0m\u001b[0m\n\u001b[0m\u001b[1;32m    543\u001b[0m         \u001b[0;32mexcept\u001b[0m \u001b[0mCfTimeoutError\u001b[0m \u001b[0;32mas\u001b[0m \u001b[0me\u001b[0m\u001b[0;34m:\u001b[0m\u001b[0;34m\u001b[0m\u001b[0;34m\u001b[0m\u001b[0m\n\u001b[1;32m    544\u001b[0m             \u001b[0;32mraise\u001b[0m \u001b[0mTimeoutError\u001b[0m \u001b[0;32mfrom\u001b[0m \u001b[0me\u001b[0m\u001b[0;34m\u001b[0m\u001b[0;34m\u001b[0m\u001b[0m\n",
            "\u001b[0;32m/usr/lib/python3.7/concurrent/futures/_base.py\u001b[0m in \u001b[0;36mresult\u001b[0;34m(self, timeout)\u001b[0m\n\u001b[1;32m    428\u001b[0m                 \u001b[0;32mreturn\u001b[0m \u001b[0mself\u001b[0m\u001b[0;34m.\u001b[0m\u001b[0m__get_result\u001b[0m\u001b[0;34m(\u001b[0m\u001b[0;34m)\u001b[0m\u001b[0;34m\u001b[0m\u001b[0;34m\u001b[0m\u001b[0m\n\u001b[1;32m    429\u001b[0m \u001b[0;34m\u001b[0m\u001b[0m\n\u001b[0;32m--> 430\u001b[0;31m             \u001b[0mself\u001b[0m\u001b[0;34m.\u001b[0m\u001b[0m_condition\u001b[0m\u001b[0;34m.\u001b[0m\u001b[0mwait\u001b[0m\u001b[0;34m(\u001b[0m\u001b[0mtimeout\u001b[0m\u001b[0;34m)\u001b[0m\u001b[0;34m\u001b[0m\u001b[0;34m\u001b[0m\u001b[0m\n\u001b[0m\u001b[1;32m    431\u001b[0m \u001b[0;34m\u001b[0m\u001b[0m\n\u001b[1;32m    432\u001b[0m             \u001b[0;32mif\u001b[0m \u001b[0mself\u001b[0m\u001b[0;34m.\u001b[0m\u001b[0m_state\u001b[0m \u001b[0;32min\u001b[0m \u001b[0;34m[\u001b[0m\u001b[0mCANCELLED\u001b[0m\u001b[0;34m,\u001b[0m \u001b[0mCANCELLED_AND_NOTIFIED\u001b[0m\u001b[0;34m]\u001b[0m\u001b[0;34m:\u001b[0m\u001b[0;34m\u001b[0m\u001b[0;34m\u001b[0m\u001b[0m\n",
            "\u001b[0;32m/usr/lib/python3.7/threading.py\u001b[0m in \u001b[0;36mwait\u001b[0;34m(self, timeout)\u001b[0m\n\u001b[1;32m    294\u001b[0m         \u001b[0;32mtry\u001b[0m\u001b[0;34m:\u001b[0m    \u001b[0;31m# restore state no matter what (e.g., KeyboardInterrupt)\u001b[0m\u001b[0;34m\u001b[0m\u001b[0;34m\u001b[0m\u001b[0m\n\u001b[1;32m    295\u001b[0m             \u001b[0;32mif\u001b[0m \u001b[0mtimeout\u001b[0m \u001b[0;32mis\u001b[0m \u001b[0;32mNone\u001b[0m\u001b[0;34m:\u001b[0m\u001b[0;34m\u001b[0m\u001b[0;34m\u001b[0m\u001b[0m\n\u001b[0;32m--> 296\u001b[0;31m                 \u001b[0mwaiter\u001b[0m\u001b[0;34m.\u001b[0m\u001b[0macquire\u001b[0m\u001b[0;34m(\u001b[0m\u001b[0;34m)\u001b[0m\u001b[0;34m\u001b[0m\u001b[0;34m\u001b[0m\u001b[0m\n\u001b[0m\u001b[1;32m    297\u001b[0m                 \u001b[0mgotit\u001b[0m \u001b[0;34m=\u001b[0m \u001b[0;32mTrue\u001b[0m\u001b[0;34m\u001b[0m\u001b[0;34m\u001b[0m\u001b[0m\n\u001b[1;32m    298\u001b[0m             \u001b[0;32melse\u001b[0m\u001b[0;34m:\u001b[0m\u001b[0;34m\u001b[0m\u001b[0;34m\u001b[0m\u001b[0m\n",
            "\u001b[0;31mKeyboardInterrupt\u001b[0m: "
          ]
        }
      ]
    },
    {
      "cell_type": "code",
      "source": [
        "w.shape"
      ],
      "metadata": {
        "colab": {
          "base_uri": "https://localhost:8080/"
        },
        "id": "C2K3ouPz7-ps",
        "outputId": "b98cd74d-3791-4540-8e5d-5a83e6faca47"
      },
      "execution_count": 81,
      "outputs": [
        {
          "output_type": "execute_result",
          "data": {
            "text/plain": [
              "(440054,)"
            ]
          },
          "metadata": {},
          "execution_count": 81
        }
      ]
    },
    {
      "cell_type": "code",
      "source": [
        "import pickle\n",
        "pickle.dump(elastic_pipe,open('epipe.pkl','wb'))"
      ],
      "metadata": {
        "id": "kTrMKuxA7-tU"
      },
      "execution_count": 225,
      "outputs": []
    },
    {
      "cell_type": "code",
      "source": [
        "import pickle\n",
        "simi = pickle.load(open('epipe.pkl','rb'))\n",
        "\n",
        "import numpy as np\n",
        "a = np.array(['F' , '18-25' , 2 , 'A' , '2' , 500 , 500.0 , 9.0 , 13.0],dtype=object).reshape(1,9)\n",
        "simi.predict(a)"
      ],
      "metadata": {
        "colab": {
          "base_uri": "https://localhost:8080/"
        },
        "id": "c-NfDb107-wb",
        "outputId": "b88d6242-7a6e-4105-aafc-7e901be8180e"
      },
      "execution_count": 2,
      "outputs": [
        {
          "output_type": "stream",
          "name": "stderr",
          "text": [
            "/usr/local/lib/python3.7/dist-packages/sklearn/base.py:451: UserWarning: X does not have valid feature names, but SimpleImputer was fitted with feature names\n",
            "  \"X does not have valid feature names, but\"\n"
          ]
        },
        {
          "output_type": "execute_result",
          "data": {
            "text/plain": [
              "array([7323.42722872])"
            ]
          },
          "metadata": {},
          "execution_count": 2
        }
      ]
    },
    {
      "cell_type": "code",
      "source": [
        "p_pipe = Pipeline([\n",
        "                    ('trf1' , trf1),\n",
        "                    ('trf2' , trf2),\n",
        "                    ('trf3' , trf3),\n",
        "                    ('trf4' , trf4)\n",
        "                    ])"
      ],
      "metadata": {
        "id": "kCQkCWGJ7-0u"
      },
      "execution_count": 91,
      "outputs": []
    },
    {
      "cell_type": "code",
      "source": [
        "s = trf1.fit(b,w)"
      ],
      "metadata": {
        "id": "-qOjSABJ7-6F"
      },
      "execution_count": 83,
      "outputs": []
    },
    {
      "cell_type": "code",
      "source": [
        "s.output_indices_"
      ],
      "metadata": {
        "colab": {
          "base_uri": "https://localhost:8080/"
        },
        "id": "FrdJnX6-WxGL",
        "outputId": "2f5c7fcb-11ba-40eb-befb-7cd667efdfeb"
      },
      "execution_count": 39,
      "outputs": [
        {
          "output_type": "execute_result",
          "data": {
            "text/plain": [
              "{'impute_pc1_pc2': slice(0, 2, None), 'remainder': slice(2, 9, None)}"
            ]
          },
          "metadata": {},
          "execution_count": 39
        }
      ]
    },
    {
      "cell_type": "code",
      "source": [
        "!pip install mlflow --quiet\n"
      ],
      "metadata": {
        "id": "f8hMDjxKcrnq"
      },
      "execution_count": 45,
      "outputs": []
    },
    {
      "cell_type": "code",
      "source": [
        "!pip install pyngrok --quiet"
      ],
      "metadata": {
        "colab": {
          "base_uri": "https://localhost:8080/"
        },
        "id": "IiqD7eZMcr4v",
        "outputId": "53192420-b3bf-41f5-b856-9d6ba1564c0d"
      },
      "execution_count": 47,
      "outputs": [
        {
          "output_type": "stream",
          "name": "stdout",
          "text": [
            "\u001b[?25l\r\u001b[K     |▍                               | 10 kB 20.6 MB/s eta 0:00:01\r\u001b[K     |▉                               | 20 kB 3.9 MB/s eta 0:00:01\r\u001b[K     |█▎                              | 30 kB 4.4 MB/s eta 0:00:01\r\u001b[K     |█▊                              | 40 kB 4.0 MB/s eta 0:00:01\r\u001b[K     |██▏                             | 51 kB 3.5 MB/s eta 0:00:01\r\u001b[K     |██▋                             | 61 kB 4.2 MB/s eta 0:00:01\r\u001b[K     |███                             | 71 kB 4.2 MB/s eta 0:00:01\r\u001b[K     |███▌                            | 81 kB 4.4 MB/s eta 0:00:01\r\u001b[K     |████                            | 92 kB 4.9 MB/s eta 0:00:01\r\u001b[K     |████▍                           | 102 kB 4.5 MB/s eta 0:00:01\r\u001b[K     |████▉                           | 112 kB 4.5 MB/s eta 0:00:01\r\u001b[K     |█████▎                          | 122 kB 4.5 MB/s eta 0:00:01\r\u001b[K     |█████▊                          | 133 kB 4.5 MB/s eta 0:00:01\r\u001b[K     |██████▏                         | 143 kB 4.5 MB/s eta 0:00:01\r\u001b[K     |██████▋                         | 153 kB 4.5 MB/s eta 0:00:01\r\u001b[K     |███████                         | 163 kB 4.5 MB/s eta 0:00:01\r\u001b[K     |███████▌                        | 174 kB 4.5 MB/s eta 0:00:01\r\u001b[K     |████████                        | 184 kB 4.5 MB/s eta 0:00:01\r\u001b[K     |████████▍                       | 194 kB 4.5 MB/s eta 0:00:01\r\u001b[K     |████████▉                       | 204 kB 4.5 MB/s eta 0:00:01\r\u001b[K     |█████████▎                      | 215 kB 4.5 MB/s eta 0:00:01\r\u001b[K     |█████████▊                      | 225 kB 4.5 MB/s eta 0:00:01\r\u001b[K     |██████████▏                     | 235 kB 4.5 MB/s eta 0:00:01\r\u001b[K     |██████████▌                     | 245 kB 4.5 MB/s eta 0:00:01\r\u001b[K     |███████████                     | 256 kB 4.5 MB/s eta 0:00:01\r\u001b[K     |███████████▍                    | 266 kB 4.5 MB/s eta 0:00:01\r\u001b[K     |███████████▉                    | 276 kB 4.5 MB/s eta 0:00:01\r\u001b[K     |████████████▎                   | 286 kB 4.5 MB/s eta 0:00:01\r\u001b[K     |████████████▊                   | 296 kB 4.5 MB/s eta 0:00:01\r\u001b[K     |█████████████▏                  | 307 kB 4.5 MB/s eta 0:00:01\r\u001b[K     |█████████████▋                  | 317 kB 4.5 MB/s eta 0:00:01\r\u001b[K     |██████████████                  | 327 kB 4.5 MB/s eta 0:00:01\r\u001b[K     |██████████████▌                 | 337 kB 4.5 MB/s eta 0:00:01\r\u001b[K     |███████████████                 | 348 kB 4.5 MB/s eta 0:00:01\r\u001b[K     |███████████████▍                | 358 kB 4.5 MB/s eta 0:00:01\r\u001b[K     |███████████████▉                | 368 kB 4.5 MB/s eta 0:00:01\r\u001b[K     |████████████████▎               | 378 kB 4.5 MB/s eta 0:00:01\r\u001b[K     |████████████████▊               | 389 kB 4.5 MB/s eta 0:00:01\r\u001b[K     |█████████████████▏              | 399 kB 4.5 MB/s eta 0:00:01\r\u001b[K     |█████████████████▋              | 409 kB 4.5 MB/s eta 0:00:01\r\u001b[K     |██████████████████              | 419 kB 4.5 MB/s eta 0:00:01\r\u001b[K     |██████████████████▌             | 430 kB 4.5 MB/s eta 0:00:01\r\u001b[K     |███████████████████             | 440 kB 4.5 MB/s eta 0:00:01\r\u001b[K     |███████████████████▍            | 450 kB 4.5 MB/s eta 0:00:01\r\u001b[K     |███████████████████▉            | 460 kB 4.5 MB/s eta 0:00:01\r\u001b[K     |████████████████████▎           | 471 kB 4.5 MB/s eta 0:00:01\r\u001b[K     |████████████████████▋           | 481 kB 4.5 MB/s eta 0:00:01\r\u001b[K     |█████████████████████           | 491 kB 4.5 MB/s eta 0:00:01\r\u001b[K     |█████████████████████▌          | 501 kB 4.5 MB/s eta 0:00:01\r\u001b[K     |██████████████████████          | 512 kB 4.5 MB/s eta 0:00:01\r\u001b[K     |██████████████████████▍         | 522 kB 4.5 MB/s eta 0:00:01\r\u001b[K     |██████████████████████▉         | 532 kB 4.5 MB/s eta 0:00:01\r\u001b[K     |███████████████████████▎        | 542 kB 4.5 MB/s eta 0:00:01\r\u001b[K     |███████████████████████▊        | 552 kB 4.5 MB/s eta 0:00:01\r\u001b[K     |████████████████████████▏       | 563 kB 4.5 MB/s eta 0:00:01\r\u001b[K     |████████████████████████▋       | 573 kB 4.5 MB/s eta 0:00:01\r\u001b[K     |█████████████████████████       | 583 kB 4.5 MB/s eta 0:00:01\r\u001b[K     |█████████████████████████▌      | 593 kB 4.5 MB/s eta 0:00:01\r\u001b[K     |██████████████████████████      | 604 kB 4.5 MB/s eta 0:00:01\r\u001b[K     |██████████████████████████▍     | 614 kB 4.5 MB/s eta 0:00:01\r\u001b[K     |██████████████████████████▉     | 624 kB 4.5 MB/s eta 0:00:01\r\u001b[K     |███████████████████████████▎    | 634 kB 4.5 MB/s eta 0:00:01\r\u001b[K     |███████████████████████████▊    | 645 kB 4.5 MB/s eta 0:00:01\r\u001b[K     |████████████████████████████▏   | 655 kB 4.5 MB/s eta 0:00:01\r\u001b[K     |████████████████████████████▋   | 665 kB 4.5 MB/s eta 0:00:01\r\u001b[K     |█████████████████████████████   | 675 kB 4.5 MB/s eta 0:00:01\r\u001b[K     |█████████████████████████████▌  | 686 kB 4.5 MB/s eta 0:00:01\r\u001b[K     |██████████████████████████████  | 696 kB 4.5 MB/s eta 0:00:01\r\u001b[K     |██████████████████████████████▍ | 706 kB 4.5 MB/s eta 0:00:01\r\u001b[K     |██████████████████████████████▊ | 716 kB 4.5 MB/s eta 0:00:01\r\u001b[K     |███████████████████████████████▏| 727 kB 4.5 MB/s eta 0:00:01\r\u001b[K     |███████████████████████████████▋| 737 kB 4.5 MB/s eta 0:00:01\r\u001b[K     |████████████████████████████████| 745 kB 4.5 MB/s \n",
            "\u001b[?25h  Building wheel for pyngrok (setup.py) ... \u001b[?25l\u001b[?25hdone\n"
          ]
        }
      ]
    },
    {
      "cell_type": "code",
      "source": [
        "import mlflow\n",
        "import mlflow.sklearn\n",
        "\n",
        "mlflow.set_experiment('black_friday_sales')"
      ],
      "metadata": {
        "colab": {
          "base_uri": "https://localhost:8080/"
        },
        "id": "8YFbQcWZuEsA",
        "outputId": "3c27a94c-9eba-4a1f-d48c-ea464049f814"
      },
      "execution_count": 59,
      "outputs": [
        {
          "output_type": "stream",
          "name": "stderr",
          "text": [
            "2022/07/27 03:35:00 INFO mlflow.tracking.fluent: Experiment with name 'black_friday_sales' does not exist. Creating a new experiment.\n"
          ]
        },
        {
          "output_type": "execute_result",
          "data": {
            "text/plain": [
              "<Experiment: artifact_location='file:///content/mlruns/1', experiment_id='1', lifecycle_stage='active', name='black_friday_sales', tags={}>"
            ]
          },
          "metadata": {},
          "execution_count": 59
        }
      ]
    },
    {
      "cell_type": "code",
      "source": [
        ""
      ],
      "metadata": {
        "id": "KBvofNQxuExk"
      },
      "execution_count": null,
      "outputs": []
    },
    {
      "cell_type": "code",
      "source": [
        "def run(p1,p2,p3,p4):\n",
        "  with mlflow.start_run():\n",
        "    trf8 = RandomForestRegressor(n_estimators=p1, criterion = 'squared_error',max_depth = p2,\n",
        "                          max_features='auto',random_state = 42,min_samples_split=p3,n_jobs = -1,\n",
        "                          max_leaf_nodes=p4)\n",
        "    rfr_pipe = Pipeline([\n",
        "                        ('p_pipe' , p_pipe),\n",
        "                        ('trf8' , trf8) ])\n",
        "    rfr_pipe.fit(b,w)\n",
        "    y_pred = rfr_pipe.predict(X_test)\n",
        "\n",
        "    print(r2_score(y_test , y_pred) , mse(y_test , y_pred) , mse(y_test , y_pred) ** (0.5))\n",
        "\n",
        "    mlflow.log_param(\"n_estimators\",p1)\n",
        "    mlflow.log_param(\"max_depth\",p2)\n",
        "    mlflow.log_param(\"min_samples_split\",p3)\n",
        "    mlflow.log_param(\"max_leaf_nodes\",p4)\n",
        "\n",
        "    mlflow.log_metric('mse',mse(y_test , y_pred))\n",
        "    mlflow.log_metric('rmse',mse(y_test , y_pred) ** (0.5))\n",
        "    mlflow.log_metric('r2',r2_score(y_test , y_pred))\n",
        "\n",
        "\n",
        "    mlflow.sklearn.log_model(trf8 , \"model\")\n",
        "    \n",
        "\n"
      ],
      "metadata": {
        "id": "u72VhzTkcsA3"
      },
      "execution_count": 92,
      "outputs": []
    },
    {
      "cell_type": "code",
      "source": [
        "wf = Pipeline([\n",
        "               ('p_pipe' , p_pipe),\n",
        "               ('trf7' , trf7)\n",
        "]\n",
        ")"
      ],
      "metadata": {
        "id": "BJqfmLUGh4EK"
      },
      "execution_count": 84,
      "outputs": []
    },
    {
      "cell_type": "code",
      "source": [
        "run(15,10,50,4)\n",
        "run(20,10,40,4)\n",
        "run(30,20,60,5)\n",
        "run(50,30,80,9)"
      ],
      "metadata": {
        "colab": {
          "base_uri": "https://localhost:8080/"
        },
        "id": "-MvT_zgWh4IA",
        "outputId": "3e6d9782-8ca3-45c2-be70-b23f90220030"
      },
      "execution_count": 93,
      "outputs": [
        {
          "output_type": "stream",
          "name": "stdout",
          "text": [
            "0.09670065063183364 3750.172142366675 61.238649089987895\n",
            "0.09670009021406412 3750.542126540632 61.24166985428003\n",
            "0.10628842216014622 3739.3868251136046 61.15052595941923\n",
            "0.1438874950722816 3606.9137588646668 60.05758702166336\n"
          ]
        }
      ]
    },
    {
      "cell_type": "code",
      "source": [
        "!mlflow"
      ],
      "metadata": {
        "colab": {
          "base_uri": "https://localhost:8080/"
        },
        "id": "F_d6TKdlh4NE",
        "outputId": "5e630f10-5d0a-44e5-f1bc-27c4af5611bb"
      },
      "execution_count": 63,
      "outputs": [
        {
          "output_type": "stream",
          "name": "stdout",
          "text": [
            "Usage: mlflow [OPTIONS] COMMAND [ARGS]...\n",
            "\n",
            "Options:\n",
            "  --version  Show the version and exit.\n",
            "  --help     Show this message and exit.\n",
            "\n",
            "Commands:\n",
            "  artifacts    Upload, list, and download...\n",
            "  azureml      Serve models on Azure ML.\n",
            "  db           Commands for managing an MLflow...\n",
            "  deployments  Deploy MLflow models to custom...\n",
            "  experiments  Manage experiments.\n",
            "  gc           Permanently delete runs in the\n",
            "               `deleted` lifecycle stage.\n",
            "\n",
            "  models       Deploy MLflow models locally.\n",
            "  pipelines    Run MLflow Pipelines and inspect...\n",
            "  run          Run an MLflow project from the...\n",
            "  runs         Manage runs.\n",
            "  sagemaker    Serve models on SageMaker.\n",
            "  server       Run the MLflow tracking server.\n",
            "  ui           Launch the MLflow tracking UI\n",
            "               for...\n"
          ]
        }
      ]
    },
    {
      "cell_type": "code",
      "source": [
        "from pyngrok import ngrok\n",
        "\n",
        "ngrok.kill()\n",
        "\n",
        "NGROK_AUTH_TOKEN = \"2CVh6rETLv9GNRCeCsj2zbsPsJm_2wYaXdh6DkqN2Q2Fsctdu\"\n",
        "ngrok.set_auth_token(NGROK_AUTH_TOKEN)\n",
        "\n",
        "ngrok_tunnel = ngrok.connect(addr=\"5000\",proto=\"http\",bind_tls = True)\n",
        "\n",
        "print(\"MLflow Tracking UI:\" , ngrok_tunnel.public_url)"
      ],
      "metadata": {
        "colab": {
          "base_uri": "https://localhost:8080/"
        },
        "id": "pLqZuwWCh4Uh",
        "outputId": "3289ca9f-446b-4dcf-cad8-2a97355cefd8"
      },
      "execution_count": 79,
      "outputs": [
        {
          "output_type": "stream",
          "name": "stdout",
          "text": [
            "MLflow Tracking UI: https://41d8-35-222-227-69.ngrok.io\n"
          ]
        }
      ]
    },
    {
      "cell_type": "code",
      "source": [
        "!mlflow ui"
      ],
      "metadata": {
        "colab": {
          "base_uri": "https://localhost:8080/"
        },
        "id": "_UPoVXzSh4Yn",
        "outputId": "9c19f7dc-7a6c-4abd-9b4f-b0af8975b944"
      },
      "execution_count": 80,
      "outputs": [
        {
          "output_type": "stream",
          "name": "stdout",
          "text": [
            "[2022-07-27 04:33:31 +0000] [2283] [INFO] Starting gunicorn 20.1.0\n",
            "[2022-07-27 04:33:31 +0000] [2283] [INFO] Listening at: http://127.0.0.1:5000 (2283)\n",
            "[2022-07-27 04:33:31 +0000] [2283] [INFO] Using worker: sync\n",
            "[2022-07-27 04:33:31 +0000] [2286] [INFO] Booting worker with pid: 2286\n",
            "\n",
            "[2022-07-27 05:51:31 +0000] [2283] [INFO] Handling signal: int\n",
            "Aborted!\n",
            "[2022-07-27 05:51:31 +0000] [2286] [INFO] Worker exiting (pid: 2286)\n",
            "[2022-07-27 05:51:32 +0000] [2283] [INFO] Shutting down: Master\n"
          ]
        }
      ]
    },
    {
      "cell_type": "code",
      "source": [
        ""
      ],
      "metadata": {
        "id": "LSUMhOqCh4c1"
      },
      "execution_count": null,
      "outputs": []
    },
    {
      "cell_type": "code",
      "source": [
        ""
      ],
      "metadata": {
        "id": "5nPvf5ZEh4gn"
      },
      "execution_count": null,
      "outputs": []
    },
    {
      "cell_type": "code",
      "source": [
        ""
      ],
      "metadata": {
        "id": "E4KacSPuh4oX"
      },
      "execution_count": null,
      "outputs": []
    },
    {
      "cell_type": "code",
      "source": [
        ""
      ],
      "metadata": {
        "id": "w9taGkWNh4vr"
      },
      "execution_count": null,
      "outputs": []
    },
    {
      "cell_type": "code",
      "source": [
        ""
      ],
      "metadata": {
        "id": "ABmWynQ2h40N"
      },
      "execution_count": null,
      "outputs": []
    },
    {
      "cell_type": "code",
      "source": [
        ""
      ],
      "metadata": {
        "id": "0A9Kgi4qh44F"
      },
      "execution_count": null,
      "outputs": []
    }
  ]
}